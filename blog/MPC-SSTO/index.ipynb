{
 "cells": [
  {
   "cell_type": "code",
   "execution_count": 3,
   "metadata": {
    "tags": []
   },
   "outputs": [
    {
     "output_type": "stream",
     "name": "stdout",
     "text": "Created file 'C:\\Users\\zurit\\OneDrive\\PROJECTS\\DEVELOPING\\blog\\files\\fnc.m'.\n"
    }
   ],
   "source": [
    "%%file 'C:/Users/zurit/OneDrive/PROJECTS/DEVELOPING/blog/files/fnc.m'\n",
    "\n",
    "function c = multi_line_func(a,b)\n",
    "    % in-file comments can be added like this\n",
    "    a = a+1;\n",
    "    b = b+2;\n",
    "    c = a+b;\n",
    "end\n",
    "\n"
   ]
  },
  {
   "cell_type": "code",
   "execution_count": 29,
   "metadata": {
    "tags": []
   },
   "outputs": [
    {
     "output_type": "stream",
     "name": "stdout",
     "text": "c =\n     6     6     6     6     6     6     6     6     6     6\nc =\n     6     8     8     8     8     8     8     8     8     8\nc =\n     6     8    10    10    10    10    10    10    10    10\nc =\n     6     8    10    12    12    12    12    12    12    12\nc =\n     6     8    10    12    14    14    14    14    14    14\nc =\n     6     8    10    12    14    16    16    16    16    16\nc =\n     6     8    10    12    14    16    18    18    18    18\nc =\n     6     8    10    12    14    16    18    20    20    20\nc =\n     6     8    10    12    14    16    18    20    22    22\nc =\n     6     8    10    12    14    16    18    20    22    24\n\n"
    },
    {
     "output_type": "display_data",
     "data": {
      "text/plain": "<IPython.core.display.Image object>",
      "image/png": "[encoded data removed]"
     },
     "metadata": {}
    }
   ],
   "source": [
    "cd 'C:/Users/zurit/OneDrive/PROJECTS/DEVELOPING/blog/files'\n",
    "% output = fnc(1,1)\n",
    "\n",
    "format compact\n",
    "for i=1:10\n",
    "    c(i:10) = fnc(i,i+1)\n",
    "end\n",
    "\n",
    "plot(1:10,c)"
   ]
  },
  {
   "cell_type": "code",
   "execution_count": null,
   "metadata": {
    "tags": []
   },
   "outputs": [],
   "source": [
    "clear variables; close all; clc;"
   ]
  },
  {
   "cell_type": "code",
   "execution_count": null,
   "metadata": {
    "tags": []
   },
   "outputs": [],
   "source": [
    "% Global constants\n",
    "% generate N random numbers in the interval (a,b), r = a + (b-a).*rand(N,1)\n",
    "\n",
    "x0 = [1.5; 1];\n",
    "nk = 100;       % simulation steps\n",
    "Ts = 0.1;       % sampling time\n",
    "t = Ts*(0:nk);  % time simulation\n",
    "N = 5;     % Horizon increase N and cost value J(k) is reduced (better performance)\n",
    "d = 0;"
   ]
  },
  {
   "cell_type": "code",
   "execution_count": null,
   "metadata": {
    "tags": []
   },
   "outputs": [],
   "source": [
    "% System \n",
    "\n",
    "% sys = (-s+1)/((s-2)*(s+1));\n",
    "[Ac,Bc,Cc,Dc] = tf2ss([-1 1],[1 -1 -2]);\n",
    "Bdc = [1;0]; Ddc = 0;\n",
    "sysc = ss(Ac,[Bc Bdc],Cc,[Dc Ddc]);\n",
    "\n",
    "sysd = c2d(sysc,Ts);\n",
    "A = sysd.A; \n",
    "B = sysd.B(:,1); \n",
    "Bd = sysd.B(:,2); \n",
    "C = sysd.C; \n",
    "D = sysd.D(:,1); \n",
    "% Dd = sysd.d(:,2);"
   ]
  },
  {
   "cell_type": "code",
   "execution_count": null,
   "metadata": {
    "tags": []
   },
   "outputs": [],
   "source": [
    "% Cost matrices                 \n",
    "Q = 1e6*eye(2); % Q^(1/2) \n",
    "R = 1;"
   ]
  },
  {
   "cell_type": "code",
   "execution_count": null,
   "metadata": {
    "tags": []
   },
   "outputs": [],
   "source": [
    "% System Dimensions\n",
    "n  = size(A, 1);    % Number of State variables\n",
    "m  = size(B, 2);    % Number of Input variables\n",
    "p  = size(C, 1);    % Number of Output measurments "
   ]
  },
  {
   "cell_type": "code",
   "execution_count": null,
   "metadata": {
    "tags": []
   },
   "outputs": [],
   "source": [
    "% === K LQR ==============================================================\n",
    "K_lqr = -dlqr(A,B,Q,R)"
   ]
  },
  {
   "cell_type": "code",
   "execution_count": null,
   "metadata": {
    "tags": []
   },
   "outputs": [],
   "source": [
    "% Constraints\n",
    "% Input constraints\n",
    "u_max = 10; u_min = 10;\n",
    "Pu = [1; -1];\n",
    "qu = [u_max; u_min]; \n",
    "U = Polyhedron(Pu,qu);\n",
    "% U.plot('alpha',0.1,'LineStyle','--');\n",
    "\n",
    "% State constraints\n",
    "x_max = 2; x_min = 2;\n",
    "Px = [eye(n); -eye(n)];\n",
    "qx = [ones(n,1)*x_max; ones(n,1)*x_min];\n",
    "X = Polyhedron(Px,qx);\n",
    "% X.plot('alpha',0.0,'LineStyle','--');"
   ]
  },
  {
   "cell_type": "code",
   "execution_count": null,
   "metadata": {
    "tags": []
   },
   "outputs": [],
   "source": [
    "% Deadbeat Terminal Inequality State constraints (with deadbet mode-2 gain or any gain K)\n",
    "% K = -acker(A,B,[0,0]); \n",
    "% K = -place(A,B,[0 0]); % does not work with place\n",
    "K = -dlqr(A,B,Q,R);\n",
    "nn = N;\n",
    "Maux = [];\n",
    "for i=0:nn-1\n",
    "    Maux = [Maux;(A+B*K)^(i)];\n",
    "end \n",
    "Mm = kron(eye(nn),[Px; Pu*K]);\n",
    "\n",
    "% regulation\n",
    "PxN = Mm*Maux; \n",
    "qxN = kron(ones(nn,1),[qx; qu]);% deadbeat terminal inequality constraints\n",
    "Xf = Polyhedron(PxN,qxN);\n",
    "% figure,Xf.plot()"
   ]
  },
  {
   "cell_type": "code",
   "execution_count": null,
   "metadata": {
    "tags": []
   },
   "outputs": [],
   "source": [
    "% MPT3 - Control Invariant Set (CIS)\n",
    "% computes a control invariant set for LTI system x^+ = A*x+B*u\n",
    "% When applied to an autonomous system , the method computes the maximal positively invariant set. \n",
    "% When applied to a non-autonomous system, the maximal control invariant set is computed. \n",
    "system = LTISystem('A', A, 'B', B);\n",
    "system.x.min = [-x_min; -x_min];\n",
    "system.x.max = [x_max; x_max];\n",
    "system.u.min = -u_min;\n",
    "system.u.max = u_max;\n",
    "InvSet = system.invariantSet(); % XN = Control Invariant Set\n",
    "Pxx = InvSet.A; qxx = InvSet.b;\n",
    "InvSet.plot('alpha',0.1,'color','lightblue')\n",
    "XN = Polyhedron(InvSet.A,InvSet.b);\n",
    "figure,XN.plot('alpha',0.1,'color','lightblue');"
   ]
  },
  {
   "cell_type": "markdown",
   "metadata": {},
   "source": [
    "# MPC with feed forward Steady-State Target Optimization (SSTO)\n",
    "\n",
    "The following presents a constrained Linear Quadratic Model Predictive Control (LQ-MPC) with offset-free tracking and disturbance rejection using the feed-forward Steady-State Target Optimization (SSTO) approach for an isolated power system. The MPC control law uses Finite-Receding-Horizon method in dual-mode.\n",
    "\n"
   ]
  },
  {
   "cell_type": "markdown",
   "metadata": {},
   "source": [
    "# System and design requirements\n",
    "\n",
    "\n",
    "<object data=\"https://drive.google.com/viewerng/viewer?embedded=true&url=https://raw.githubusercontent.com/paulomarconi/MPC-SSTO/master/ACS6116_assignment_only.pdf\" width=\"100%\" height=\"800px\"> \n",
    "    <p>It appears you don't have a PDF plugin for this browser or JavaScript is disabled. You can <a href=\"https://drive.google.com/viewerng/viewer?embedded=true&url=https://raw.githubusercontent.com/paulomarconi/MPC-SSTO/master/ACS6116_assignment_only.pdf\">download the PDF.</a></p>  \n",
    "</object>\n",
    "\n"
   ]
  },
  {
   "cell_type": "markdown",
   "metadata": {},
   "source": [
    "# The proposed solution\n",
    "\n",
    "<object data=\"https://drive.google.com/viewerng/viewer?embedded=true&url=https://raw.githubusercontent.com/paulomarconi/MPC-SSTO/master/report/root.pdf\" width=\"100%\" height=\"800px\"> \n",
    "    <p>It appears you don't have a PDF plugin for this browser or JavaScript is disabled. You can <a href=\"https://drive.google.com/viewerng/viewer?embedded=true&url=https://raw.githubusercontent.com/paulomarconi/MPC-SSTO/master/report/root.pdf\">download the PDF.</a></p>  \n",
    "</object>\n"
   ]
  },
  {
   "cell_type": "markdown",
   "metadata": {},
   "source": [
    "Source code on [GitHub](https://github.com/paulomarconi/MPC-SSTO)."
   ]
  }
 ],
 "metadata": {
  "kernelspec": {
   "display_name": "Matlab",
   "env": {},
   "interrupt_mode": "signal",
   "language": "python",
   "metadata": {},
   "name": "matlab"
  },
  "nikola": {
   "category": "",
   "date": "2020-08-31 13:39:47 UTC-04:00",
   "description": "",
   "link": "",
   "slug": "MPC-SSTO",
   "tags": "MPC, SSTO, optimization, control systems",
   "title": "MPC with feed forward Steady-State Target Optimization (SSTO)",
   "type": "text"
  }
 },
 "nbformat": 4,
 "nbformat_minor": 4
}