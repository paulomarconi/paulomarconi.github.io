{
 "cells": [
  {
   "cell_type": "markdown",
   "metadata": {},
   "source": [
    "Write your post here."
   ]
  }
 ],
 "metadata": {
  "kernelspec": {
   "display_name": "Python 3",
   "env": {},
   "interrupt_mode": "signal",
   "language": "python",
   "metadata": {},
   "name": "python3"
  },
  "nikola": {
   "category": "",
   "date": "2020-08-31 17:50:14 UTC-04:00",
   "description": "",
   "link": "",
   "slug": "SIDF",
   "tags": "SIDF, nonlinear, HVAC system",
   "title": "Sinusoidal-Input Describing Functions (SIDF) analysis of a HVAC system.",
   "type": "text"
  }
 },
 "nbformat": 4,
 "nbformat_minor": 4
}
