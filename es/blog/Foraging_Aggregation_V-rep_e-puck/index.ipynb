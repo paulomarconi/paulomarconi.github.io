{
 "cells": [
  {
   "cell_type": "markdown",
   "metadata": {
    "toc": true
   },
   "source": [
    "<h1>Table of Contents<span class=\"tocSkip\"></span></h1>\n",
    "<div class=\"toc\"><ul class=\"toc-item\"><li><span><a href=\"#Simple-Foraging-and-Random-Aggregation-Strategy-for-swarm-robotics-without-communication\" data-toc-modified-id=\"Simple-Foraging-and-Random-Aggregation-Strategy-for-swarm-robotics-without-communication-1\"><span class=\"toc-item-num\">1&nbsp;&nbsp;</span>Simple Foraging and Random Aggregation Strategy for swarm robotics without communication</a></span></li><li><span><a href=\"#Pre-requisites\" data-toc-modified-id=\"Pre-requisites-2\"><span class=\"toc-item-num\">2&nbsp;&nbsp;</span>Pre-requisites</a></span></li><li><span><a href=\"#Source-code\" data-toc-modified-id=\"Source-code-3\"><span class=\"toc-item-num\">3&nbsp;&nbsp;</span>Source code</a></span></li><li><span><a href=\"#Problem-formulation\" data-toc-modified-id=\"Problem-formulation-4\"><span class=\"toc-item-num\">4&nbsp;&nbsp;</span>Problem formulation</a></span></li><li><span><a href=\"#Foraging-and-Random-Aggregation\" data-toc-modified-id=\"Foraging-and-Random-Aggregation-5\"><span class=\"toc-item-num\">5&nbsp;&nbsp;</span>Foraging and Random Aggregation</a></span></li><li><span><a href=\"#Unicycle-model\" data-toc-modified-id=\"Unicycle-model-6\"><span class=\"toc-item-num\">6&nbsp;&nbsp;</span>Unicycle model</a></span></li><li><span><a href=\"#Rebound-avoider/follower-algorithm\" data-toc-modified-id=\"Rebound-avoider/follower-algorithm-7\"><span class=\"toc-item-num\">7&nbsp;&nbsp;</span>Rebound avoider/follower algorithm</a></span></li><li><span><a href=\"#Search-blob/ePuck-algorithm\" data-toc-modified-id=\"Search-blob/ePuck-algorithm-8\"><span class=\"toc-item-num\">8&nbsp;&nbsp;</span>Search blob/ePuck algorithm</a></span></li><li><span><a href=\"#Results-and-discussion\" data-toc-modified-id=\"Results-and-discussion-9\"><span class=\"toc-item-num\">9&nbsp;&nbsp;</span>Results and discussion</a></span></li><li><span><a href=\"#Lua-code-of-the-algorithm\" data-toc-modified-id=\"Lua-code-of-the-algorithm-10\"><span class=\"toc-item-num\">10&nbsp;&nbsp;</span>Lua code of the algorithm</a></span><ul class=\"toc-item\"><li><span><a href=\"#Edit-the-controller\" data-toc-modified-id=\"Edit-the-controller-10.1\"><span class=\"toc-item-num\">10.1&nbsp;&nbsp;</span>Edit the controller</a></span></li><li><span><a href=\"#Save-the-output-data\" data-toc-modified-id=\"Save-the-output-data-10.2\"><span class=\"toc-item-num\">10.2&nbsp;&nbsp;</span>Save the output data</a></span></li></ul></li><li><span><a href=\"#References\" data-toc-modified-id=\"References-11\"><span class=\"toc-item-num\">11&nbsp;&nbsp;</span>References</a></span></li></ul></div>"
   ]
  },
  {
   "cell_type": "markdown",
   "metadata": {},
   "source": [
    "# Simple Foraging and Random Aggregation Strategy for swarm robotics without communication\n",
    "\n",
    "In swarm robotics Foraging and Aggregation are basic tasks yet that can be challenging when there is no communication between the robots. This paper proposes a strategy using a Mealy Deterministic Finite State Machine (DFSM) that switches between five states with two different algorithms, the Rebound avoider/follower through proximity sensors, and the Search blob/ePuck using the 2D image processing of the ePuck embedded camera. Ten trials for each scenario are simulated on V-rep in order to analyse the performance of the strategy in terms of the mean and standard deviation.\n",
    "\n",
    "# Pre-requisites\n",
    "\n",
    "- Basic robotics theory.\n",
    "- Finite State Machine theory.\n",
    "- [V-rep proEdu v3.6](https://www.coppeliarobotics.com/download)\n",
    "- Knowledge in Lua progamming language.\n",
    "\n",
    "# Source code\n",
    "\n",
    "Version [PDF](https://raw.githubusercontent.com/paulomarconi/Foraging_Aggregation_V-rep_e-puck/master/report/root.pdf)/[HTML](../../files/Foraging_Aggregation_V-rep_e-puck/Foraging_Aggregation_V-rep_e-puck.html). V-rep and LaTex source code on [GitHub](https://github.com/paulomarconi/Foraging_Aggregation_V-rep_e-puck). "
   ]
  },
  {
   "cell_type": "markdown",
   "metadata": {},
   "source": [
    "# Problem formulation\n",
    "\n",
    "The task is to design a control strategy​ for e-puck robots that do the following:\n",
    "- Explore the given environment to collect resources (​foraging​);\n",
    "- While foraging, avoid collisions between robots and with the environment boundary.\n",
    "\n",
    "For an object to be collected, a robot's centre must be within ​5 cm ​of the object's centre. There won't be any collisions between the robot and the object.\n",
    "For the evaluation of this task, two foraging scenarios will be considered:\n",
    "- With a​ **single robot**​;\n",
    "- With a​ **group of 5 robots​** (all with an identical controller).\n",
    "\n",
    "The controller used for both scenarios ​MUST ​be the same.\n",
    "\n",
    "To assess the foraging performance of the strategy, it's expected to conduct **​10 trials** per scenario.\n",
    "Each trial should last **​60 seconds** of simulation time. Show ​the **number of objects collected in total over time** (average and standard deviation over 10 trials). Include ​one plot for each scenario​.\n",
    "\n",
    "Important:\n",
    "- Do not use wheel speeds the e-puck cannot achieve. That is, when using function `sim.setJointTargetVelocity(.,.)`, ​make sure the velocity argument is bounded by `[-6.24, 6.24]​`.\n",
    "- You should use the sensors available on the e-puck platform (e.g. camera, proximity). You may implement additional sensors, however, these must not provide any global information (e.g. absolute position or orientation).\n",
    "\n",
    "<figure>\n",
    "  <img src=\"/images/Foraging_Aggregation_V-rep_e-puck/scenario.png\" alt=\"scenario\" width=\"40%\"/>\n",
    "  <center><figcaption>Simulation environment</figcaption></center>\n",
    "</figure> "
   ]
  },
  {
   "cell_type": "markdown",
   "metadata": {},
   "source": [
    "# Foraging and Random Aggregation\n",
    "\n",
    "The DFSM diagram in Fig. 1, which is defined by (1) and (2), starts in the Behaviour state where the robot is set as $\\textit{avoider}$ while the simulation time is $t\\leq 60[s]$. During that time, the Foraging state looks for the green blobs with the Search blob/ePuck algorithm while avoiding obstacles using the Rebound algorithm. Moreover, a Random Movement state is used to introduce randomness to the system so the agent can take different paths if there is no blob or obstacle detection. For $60<t\\leq 120$, the Behaviour of the robot is set to $\\textit{follower}$ and switches to Random Aggregation state where it uses both algorithms, the Rebound to follow ePucks with the proximity sensors and the Search to look for the closest ePuck wheels. For both algorithms, the output is the angle of attack $\\alpha_n$, where $n$ depends on the current state.\n",
    "\n",
    "\\begin{align*}\n",
    "S&=\\lbrace B,F,R,A,Ra \\rbrace  \\tag{1}\\\\ \t\n",
    "\\varSigma&= \\lbrace t\\leq 60,60<t\\leq 120,bl~\\exists,bl~\\nexists,ob~\\exists,ob~\\nexists,eP~\\exists, eP~\\nexists \\rbrace \\tag{2}\\\\\n",
    "s_0&=\\lbrace B \\rbrace \\\\\n",
    "\\end{align*}\n",
    "\n",
    "where, $S$ is the finite set of states, $\\varSigma$ is the input alphabet, $\\delta:S\\times\\varSigma$ is the state transition function, Table 1, $s_0$ is the initial state, $\\exists$ and $\\nexists$ mean detection and no detection respectively.\n",
    "\n"
   ]
  },
  {
   "cell_type": "markdown",
   "metadata": {},
   "source": [
    "<center>Table 1: State transition function $\\delta$\n",
    "\n",
    "| Input | Current State | Next State | Output |\n",
    "|:-----:|:-------------:|:----------:|:------:|\n",
    "| $t ≤ 60$ | **B**ehaviour | **F**oraging | avoider |\n",
    "| $60 < t ≤ 120$ | **B**ehaviour | **A**ggregation | follower|\n",
    "| **bl**ob $\\exists$ | **F**oraging | **F**oraging | $\\alpha_C$ |\n",
    "| **bl**ob $\\nexists$ | **F**oraging | **Ra**ndom Movement | $\\alpha_{C_r}$ |\n",
    "| **ob**stacle $\\exists$ | **F**oraging | **R**ebound | $\\alpha_R$ |\n",
    "| **ob**stacle $\\nexists$ | **R**ebound | **F**oraging | - |\n",
    "| **ob**stacle $\\exists$ | **A**ggregation | **R**ebound | $\\alpha_R$ |\n",
    "| **ob**stacle $\\nexists$ | **R**ebound | **A**ggregation | - |\n",
    "| **eP**uck $\\exists$ | **A**ggregation | **A**ggregation | $\\alpha_e$ |\n",
    "| **eP**uck $\\nexists$ | **A**ggregation | **Ra**ndom Movement | $\\alpha_{e_r}$ |\n"
   ]
  },
  {
   "cell_type": "markdown",
   "metadata": {},
   "source": [
    "<figure>\n",
    "  <img src=\"/images/Foraging_Aggregation_V-rep_e-puck/DFSM.png\" alt=\"DFSM\" width=\"40%\"/>\n",
    "  <center><figcaption>Fig.1 Mealy DFSM of the controller. <a href=\"https://github.com/paulomarconi/Foraging_Aggregation_V-rep_e-puck/blob/master/report/tikz/DFSM.tex\">[Tikz version]</a> </figcaption></center>\n",
    "</figure> "
   ]
  },
  {
   "cell_type": "markdown",
   "metadata": {},
   "source": [
    "# Unicycle model\n",
    "\n",
    "The Unicycle model in Fig. 2a [1] controls the angular velocities of the right and left wheels, $v_r$ and $v_l$ as follows,\n",
    "\n",
    "\\begin{align}\n",
    "v_r&= \\dfrac{2~V_x+\\omega~L}{2~R} \\tag{3}\\\\\n",
    "v_l&=\\dfrac{2~V_x-\\omega~L}{2~R} \\tag{4}\n",
    "\\end{align}\n",
    "\n",
    "\n",
    "where, $V_x$ is the linear velocity of the robot, $L$ is the distance between the wheels, $R$ is the radius of each wheel, and $\\omega$ is the angular velocity of the robot. Using $\\alpha_n$ and the simulation sampling period $T$, the control variable for the simulation is $\\omega=\\alpha_n/T$, refer to code line 24, 197, and 215.\n"
   ]
  },
  {
   "cell_type": "markdown",
   "metadata": {},
   "source": [
    "# Rebound avoider/follower algorithm\n",
    "\n",
    "The Rebound algorithm [2] calculates the Rebound angle $\\alpha_R$ to avoid/follow an obstacle/objective given $\\alpha_0=\\pi/N$ and $\\alpha_i=i~\\alpha_0$, \n",
    "\n",
    "\\begin{align}\\tag{5}\n",
    "\\alpha_R&=\\dfrac{\\sum_{i=-N/2}^{N/2}~\\alpha_i~D_i}{\\sum_{i=-N/2}^{N/2}~D_i}\n",
    "\\end{align}\n",
    "\n",
    "where, $\\alpha_0$ is the uniformly distributed angular pace, $N$ is the number of sensors, $\\alpha_i$ is the angular information per pace $\\alpha_i~\\epsilon\\left[-\\frac{N}{2},\\frac{N}{2}\\right]$, and $D_i$ is the distance value obtained by the proximity sensors, refer to code line 18 and 139.\n",
    "\n",
    "The weight vector given by $\\alpha_i$ sets the robot behaviour for each corresponding mapped sensor $\\lbrace s_1,s_2,s_3,s_4,s_5,s_6\\rbrace$. For the $\\textit{avoider}$ is $\\lbrace -3,-2,-1,1,2,3 \\rbrace$, and for the $\\textit{follower}$ is $\\lbrace 3,2,1,-1,-2,-3 \\rbrace$. Fig. 2b and Fig. 2c show an example of $\\alpha_R$ with the Vector Field Histogram (VFH) for the $\\textit{avoider}$ case. Refer to code line 128 and 132. \n",
    "\n",
    "<figure>\n",
    "    <img src=\"/images/Foraging_Aggregation_V-rep_e-puck/Unicycle_Rebound_Search.png\" alt=\"drawing\" width=\"55%\"/>   \n",
    "    <center><figcaption>Fig. 2 - Unicycle model, Rebound and Search angle. <a href=\"https://github.com/paulomarconi/Foraging_Aggregation_V-rep_e-puck/tree/master/report/tikz\">[Tikz version]</a> </figcaption></center>\n",
    "</figure>\n",
    "\n",
    "\n",
    "\n"
   ]
  },
  {
   "cell_type": "markdown",
   "metadata": {},
   "source": [
    "# Search blob/ePuck algorithm\n",
    "\n",
    "The ePuck embedded camera on V-rep is a vision sensor that filters the RGB colours of the blobs and other ePucks. Not collected Blobs are mapped as green and collected ones as red, and the ePuck wheels are also mapped because they have green and red parts, refer to code line 97. The data of interest that this sensor outputs are the size, centroid's 2D position, and orientation of the detected objects. Therefore, when objects are detected by the camera, a simple routine finds the biggest one which is the closest relative to the ePuck, and using (6) and (7), it can be calculated the angle of attack $\\alpha_C$ or $\\alpha_e$ for the blobs and ePucks respectively, refer to Fig. 2d and code line 150. The orientation value is used to differentiate between objects, for blobs is $=0$ and for ePuck wheels is $\\neq 0$, refer to code line 105.\n",
    "\n",
    "\n",
    "\\begin{align}\n",
    "\\alpha_C &= \\arctan \\dfrac{x_b-x_o}{y_b-y_o} \\tag{6}\\\\\n",
    "\\alpha_e &= \\arctan \\dfrac{x_e-x_o}{y_e-y_o} \\tag{7}\n",
    "\\end{align}\n",
    "where, $(x_o,y_o)$, $(x_b,y_b)$, and $(x_e,y_e)$ are the robot, blob and another ePuck wheel relative position in the 2D image. In the Random state, either the robot is foraging but does not see any blobs or is aggregating but there is no other ePuck nearby, (6) and (7) are modified with a random value $w$ with a probability function $P$,\n",
    "\n",
    "\\begin{align}\n",
    "\\alpha_{C_r} &= \\alpha_C~w \\tag{8}\\\\\n",
    "\\alpha_{e_r} &= \\alpha_e~w \\tag{9}\n",
    "\\end{align}\n",
    "where, $P(\\lbrace w~\\epsilon~\\Omega:X(w)=1/3 \\rbrace)$ and $\\Omega=\\lbrace -1,0,1 \\rbrace$, refer to code line 158 and 205.\n"
   ]
  },
  {
   "cell_type": "markdown",
   "metadata": {},
   "source": [
    "# Results and discussion\n",
    "\n",
    "For both Scenarios, 4 Rounds of 10 trials each are simulated. Each Round has different initial positions of the robots, Fig. 3b and Fig. 3d, and each trial stops at $t=60$. In Scenario 1, Fig. 3a shows that Round 4 has the best performance because $68\\%$ of the time the robot will forage between 13 and 15 blobs. For Scenario 2, Fig. 3b shows that Round 1 hast the best performance, $68\\%$ of the time the swarm will forage between 37 and 39 blobs. For the Aggregation case, that is simulated only in Scenario 2 Fig. 3e and Fig. 3f, Round 2 shows the best results, $68\\%$ of the time between 2 and 4 agents aggregate at some random point.\n",
    "<figure>\n",
    "    <img src=\"/images/Foraging_Aggregation_V-rep_e-puck/result_a.png\" alt=\"result_a\" width=\"50%\"/>   \n",
    "    <img src=\"/images/Foraging_Aggregation_V-rep_e-puck/result_b.png\" alt=\"result_b\" width=\"50%\"/>   \n",
    "    <img src=\"/images/Foraging_Aggregation_V-rep_e-puck/result_c.png\" alt=\"result_c\" width=\"50%\"/>   \n",
    "    <center><figcaption>Fig. 3: Simulation results </figcaption></center>\n",
    "</figure>\n",
    "\n",
    "<figure>\n",
    "    <img src=\"/images/Foraging_Aggregation_V-rep_e-puck/foraging.gif\" alt=\"foraging\" width=\"auto%\"/>\n",
    "    <center><figcaption>Trial: Scenario 2 (5 robots) - Foraging for $1 \\le t \\leq 60$ </figcaption></center>\n",
    "</figure>\n",
    "\n",
    "<figure>\n",
    "    <img src=\"/images/Foraging_Aggregation_V-rep_e-puck/aggregation.gif\" alt=\"aggregation\" width=\"auto%\"/>\n",
    "    <center><figcaption>Trial: Scenario 2 (5 robots) - Random Aggregation for $60 \\le t \\leq 120$ </figcaption></center>\n",
    "</figure>\n"
   ]
  },
  {
   "cell_type": "markdown",
   "metadata": {},
   "source": [
    "# Lua code of the algorithm\n",
    "\n",
    "<pre class=\"lang-lua line-numbers\" data-jsonp=\"https://api.github.com/repos/paulomarconi/Foraging_Aggregation_V-rep_e-puck/contents/report/vrep.lua\"></pre>\n",
    "\n",
    "## Edit the controller\n",
    "To edit the controller for all the ePuck, open V-rep and load the scene  `sim_5_Robots.ttt`, and edit the ePuck file.\n",
    "\n",
    "<img src=\"/images/Foraging_Aggregation_V-rep_e-puck/controller_location.png\" alt=\"controller_location\" width=\"auto\"/> \n",
    "\n",
    "## Save the output data\n",
    "To edit the location of the output data, open the `disc file`.\n",
    "\n",
    "<img src=\"/images/Foraging_Aggregation_V-rep_e-puck/output_location.png\" alt=\"output_location\" width=\"auto\"/> "
   ]
  },
  {
   "cell_type": "markdown",
   "metadata": {},
   "source": [
    "# References\n",
    "\n",
    "[1] Jawhar Ghommam, Maarouf Saad, and Faical Mnif. “Formation path following control of unicycle-type mobile robots”. In: 2008 IEEE International Conference on Robotics and Automation. IEEE, 2008. DOI: 10.1109/robot.2008.4543495.\n",
    "\n",
    "[2] I. Susnea et al. “The bubble rebound obstacle avoidance algorithm for mobile robots”. In: IEEE ICCA 2010. IEEE, 2010. DOI: 10.1109/icca.2010.5524302.\n",
    "\n"
   ]
  }
 ],
 "metadata": {
  "kernelspec": {
   "display_name": "Python 3",
   "language": "python",
   "name": "python3"
  },
  "language_info": {
   "codemirror_mode": {
    "name": "ipython",
    "version": 3
   },
   "file_extension": ".py",
   "mimetype": "text/x-python",
   "name": "python",
   "nbconvert_exporter": "python",
   "pygments_lexer": "ipython3",
   "version": "3.6.10"
  },
  "latex_envs": {
   "LaTeX_envs_menu_present": true,
   "autoclose": false,
   "autocomplete": true,
   "bibliofile": "biblio.bib",
   "cite_by": "apalike",
   "current_citInitial": 1,
   "eqLabelWithNumbers": true,
   "eqNumInitial": 1,
   "hotkeys": {
    "equation": "Ctrl-E",
    "itemize": "Ctrl-I"
   },
   "labels_anchors": false,
   "latex_user_defs": false,
   "report_style_numbering": false,
   "user_envs_cfg": false
  },
  "nikola": {
   "category": "",
   "date": "2020-09-06 17:47:09 UTC-04:00",
   "description": "",
   "link": "",
   "slug": "Foraging_Aggregation_V-rep_e-puck",
   "tags": "V-rep, swarm robotics, foraging, aggregation, e-puck",
   "title": "Simple foraging and random aggregation strategy for swarm robotics without communication",
   "type": "text"
  },
  "toc": {
   "base_numbering": 1,
   "nav_menu": {},
   "number_sections": true,
   "sideBar": true,
   "skip_h1_title": false,
   "title_cell": "Table of Contents",
   "title_sidebar": "Contents",
   "toc_cell": true,
   "toc_position": {},
   "toc_section_display": true,
   "toc_window_display": true
  }
 },
 "nbformat": 4,
 "nbformat_minor": 4
}