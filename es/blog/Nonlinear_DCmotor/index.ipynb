{
 "cells": [
  {
   "cell_type": "markdown",
   "metadata": {},
   "source": [
    "Analysis and simulation of a simple nonlinear electro-mechanical system composed of a permanent DC motor with gear train, load, thermal model, and Coulomb friction.\n"
   ]
  },
  {
   "cell_type": "markdown",
   "metadata": {},
   "source": [
    "# Problem formulation.\n",
    "\n",
    "<object data=\"https://drive.google.com/viewerng/viewer?embedded=true&url=https://raw.githubusercontent.com/paulomarconi/Nonlinear_DCmotor/master/asst02_2017_assignment.pdf\" width=\"100%\" height=\"800px\"> \n",
    "    <p>It appears you don't have a PDF plugin for this browser or JavaScript is disabled. You can <a href=\"https://drive.google.com/viewerng/viewer?embedded=true&url=https://raw.githubusercontent.com/paulomarconi/Nonlinear_DCmotor/master/asst02_2017_assignment.pdf\">download the PDF.</a></p>  \n",
    "</object>\n"
   ]
  },
  {
   "cell_type": "markdown",
   "metadata": {},
   "source": [
    "# The proposed solution\n",
    "\n",
    "<object data=\"https://drive.google.com/viewerng/viewer?embedded=true&url=https://raw.githubusercontent.com/paulomarconi/Nonlinear_DCmotor/master/asst02_2017/asst02_2017.pdf\" width=\"100%\" height=\"800px\"> \n",
    "    <p>It appears you don't have a PDF plugin for this browser or JavaScript is disabled. You can <a href=\"https://drive.google.com/viewerng/viewer?embedded=true&url=https://raw.githubusercontent.com/paulomarconi/Nonlinear_DCmotor/master/asst02_2017/asst02_2017.pdf\">download the PDF.</a></p>\n",
    "</object>"
   ]
  },
  {
   "cell_type": "markdown",
   "metadata": {},
   "source": [
    "Source code on [GitHub](https://github.com/paulomarconi/Nonlinear_DCmotor)."
   ]
  }
 ],
 "metadata": {
  "kernelspec": {
   "display_name": "Python 3",
   "env": {},
   "interrupt_mode": "signal",
   "language": "python",
   "metadata": {},
   "name": "python3"
  },
  "nikola": {
   "category": "",
   "date": "2020-08-31 17:48:34 UTC-04:00",
   "description": "",
   "link": "",
   "slug": "Nonlinear_DCmotor",
   "tags": "nonlinear, DC motor",
   "title": "Nonlinear electro-mechanical system with continuous reversing mode",
   "type": "text"
  }
 },
 "nbformat": 4,
 "nbformat_minor": 4
}