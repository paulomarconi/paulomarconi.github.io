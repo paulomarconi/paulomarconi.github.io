{
 "cells": [
  {
   "cell_type": "markdown",
   "metadata": {},
   "source": [
    "Sinusoidal-Input Describing Functions (SIDF) analysis of a HVAC system."
   ]
  },
  {
   "cell_type": "markdown",
   "metadata": {},
   "source": [
    "# Problem formulation\t\t\t\t\t\t\n",
    "<object data=\"https://drive.google.com/viewerng/viewer?embedded=true&url=https://raw.githubusercontent.com/paulomarconi/SIDF/master/asst06_2017_assignment.pdf\" width=\"100%\" height=\"800px\"> \n",
    "    <p>It appears you don't have a PDF plugin for this browser or JavaScript is disabled. You can <a href=\"https://drive.google.com/viewerng/viewer?embedded=true&url=https://raw.githubusercontent.com/paulomarconi/SIDF/master/asst06_2017_assignment.pdf\">download the PDF.</a></p>  \n",
    "</object>"
   ]
  },
  {
   "cell_type": "markdown",
   "metadata": {},
   "source": [
    "# The proposed solution\n",
    "<object data=\"https://drive.google.com/viewerng/viewer?embedded=true&url=https://raw.githubusercontent.com/paulomarconi/SIDF/master/asst06_2017/asst06_2017.pdf\" width=\"100%\" height=\"800px\"> \n",
    "    <p>It appears you don't have a PDF plugin for this browser or JavaScript is disabled. You can <a href=\"https://drive.google.com/viewerng/viewer?embedded=true&url=https://raw.githubusercontent.com/paulomarconi/SIDF/master/asst06_2017/asst06_2017.pdf\">download the PDF.</a></p>\n",
    "</object>"
   ]
  },
  {
   "cell_type": "markdown",
   "metadata": {},
   "source": [
    "Source code on [GitHub](https://github.com/paulomarconi/SIDF)."
   ]
  },
  {
   "cell_type": "code",
   "execution_count": 2,
   "metadata": {},
   "outputs": [
    {
     "output_type": "error",
     "ename": "SyntaxError",
     "evalue": "invalid syntax (<ipython-input-2-468d057ecda4>, line 2)",
     "traceback": [
      "\u001b[1;36m  File \u001b[1;32m\"<ipython-input-2-468d057ecda4>\"\u001b[1;36m, line \u001b[1;32m2\u001b[0m\n\u001b[1;33m    format compact\u001b[0m\n\u001b[1;37m                 ^\u001b[0m\n\u001b[1;31mSyntaxError\u001b[0m\u001b[1;31m:\u001b[0m invalid syntax\n"
     ]
    }
   ],
   "source": [
    "disp(\"hello world\")\n",
    "format compact\n",
    "for i=0:2:10\n",
    "    i\n",
    "end"
   ]
  },
  {
   "cell_type": "code",
   "execution_count": null,
   "metadata": {},
   "outputs": [],
   "source": []
  }
 ],
 "metadata": {
  "kernelspec": {
   "display_name": "Python 3",
   "env": {},
   "interrupt_mode": "signal",
   "language": "python",
   "name": "python3"
  },
  "nikola": {
   "category": "",
   "date": "2020-08-31 17:50:14 UTC-04:00",
   "description": "",
   "link": "",
   "slug": "SIDF",
   "tags": "SIDF, nonlinear, HVAC system",
   "title": "Sinusoidal-Input Describing Functions (SIDF) analysis of a HVAC system.",
   "type": "text",
   "status": "draft"
  }
 },
 "nbformat": 4,
 "nbformat_minor": 4
}