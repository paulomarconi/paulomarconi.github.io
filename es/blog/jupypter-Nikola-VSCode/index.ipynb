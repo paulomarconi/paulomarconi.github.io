{
 "cells": [
  {
   "cell_type": "markdown",
   "metadata": {},
   "source": [
    "# Table of contents\n",
    "1. [Introduction](#introduction)\n",
    "2. [Some paragraph](#paragraph1)\n",
    "    1. [Sub paragraph](#subparagraph1)\n",
    "3. [Another paragraph](#paragraph2)\n",
    "\n",
    "## This is the introduction <a name=\"introduction\"></a>\n",
    "Some introduction text, formatted in heading 2 style.\n",
    "\n",
    "## Some paragraph <a name=\"paragraph1\"></a>\n",
    "The first paragraph text\n",
    "\n",
    "### Sub paragraph <a name=\"subparagraph1\"></a>\n",
    "This is a sub paragraph, formatted in heading 3 style\n",
    "\n",
    "## Another paragraph <a name=\"paragraph2\"></a>\n",
    "The second paragraph text\n"
   ]
  },
  {
   "cell_type": "markdown",
   "metadata": {},
   "source": [
    "## Python test"
   ]
  },
  {
   "cell_type": "code",
   "execution_count": null,
   "metadata": {
    "tags": []
   },
   "outputs": [],
   "source": [
    "print('hello world')"
   ]
  },
  {
   "cell_type": "markdown",
   "metadata": {},
   "source": [
    "## Matlab script test"
   ]
  },
  {
   "cell_type": "code",
   "execution_count": null,
   "metadata": {
    "tags": []
   },
   "outputs": [],
   "source": [
    "format compact\n",
    "for i=0:.3:4\n",
    "    i+1\n",
    "end"
   ]
  },
  {
   "cell_type": "code",
   "execution_count": null,
   "metadata": {
    "tags": []
   },
   "outputs": [],
   "source": [
    "tx = linspace (-8, 8, 41);\n",
    "ty = tx;\n",
    "[xx, yy] = meshgrid (tx, ty);\n",
    "r = 2*sqrt (xx .^ 2 + yy .^ 2) + eps;\n",
    "tz = sin (r) ./ r;\n",
    "\n",
    "%plot inline\n",
    "mesh(tx, ty, tz);\n"
   ]
  },
  {
   "cell_type": "markdown",
   "metadata": {},
   "source": [
    "Some random latex formulas\n",
    "$$ f(x) = x^{2i}$$\n",
    "\n",
    "$$ \n",
    "\\begin{equation}\n",
    "\\begin{aligned}\n",
    "\\underbrace{\n",
    "\t\\overbrace{\n",
    "\t\t\\begin{bmatrix}\n",
    "\t\tPx              & 0               & \\dots & 0     \\\\\n",
    "\t\tP_u \\bar{\\nu} K & 0               & \\dots & 0     \\\\\n",
    "\t\t0               & P_x             & \\dots & 0     \\\\\n",
    "\t\t0               & P_u \\bar{\\nu} K & \\dots & 0     \\\\\n",
    "\t\t\\dots           & \\dots           & \\dots & \\dots\n",
    "\t\t\\end{bmatrix}\n",
    "\t}^{\\mathcal{M}}\n",
    "\t\\begin{bmatrix}\n",
    "\t(A+B K)^0     \\\\\n",
    "\t(A+B K)^1     \\\\\n",
    "\t\\vdots        \\\\\n",
    "\t(A+B K)^{n-1}\n",
    "\t\\end{bmatrix}\n",
    "}_{P_{x_N}}\n",
    "\\hat{x}_{k+N|k}\n",
    "\\leq\n",
    "\\underbrace{\n",
    "\t\\begin{bmatrix}\n",
    "\tq_x    \\\\\n",
    "\tq_u    \\\\\n",
    "\tq_x    \\\\\n",
    "\tq_u    \\\\\n",
    "\t\\vdots\n",
    "\t\\end{bmatrix}\n",
    "}_{q_{x_N}}\n",
    "\\end{aligned}\n",
    "\\end{equation}\n",
    "$$\n",
    "\n",
    "other formulas\n",
    "\n",
    "$$\n",
    "\\begin{equation}\n",
    "\\begin{cases}\n",
    "\\begin{aligned}\n",
    "\t\\hat{x}_{k+1|k+1} & = \\hat{x}_{k+1|k} + \\gamma_{k+1} K_{k+1} \\left( y_{k+1} -  C \\hat{x}_{k+1|k} \\right) \\\\\n",
    "\te_{k+1|k+1}       & = \\left(I-\\gamma_{k+1} K_{k+1} C \\right) e_{k+1|k} -\\gamma_{k+1} K_{k+1} \\nu_{k+1}   \\\\\n",
    "\tP_{k+1|k+1}       & = P_{k+1|k} - \\gamma_{k+1} K_{k+1}C~P_{k+1|k}                                        \\\\\n",
    "\tK_{k+1}           & = P_{k+1|k} C^\\intercal (C P_{k+1|k} C^\\intercal+R_z)^{-1}\n",
    "\\end{aligned}\n",
    "\\end{cases}\n",
    "\\end{equation}\n",
    "$$"
   ]
  },
  {
   "cell_type": "markdown",
   "metadata": {},
   "source": [
    "## Code Highlighting \n",
    "```octave\n",
    "for k = 1:nk+1 \n",
    "    % Constrained MPC control law (RH-FH) LQ-MPC at every step k        \n",
    "    if mode == 'reg'\n",
    "        [Ustar,fval,flag] = quadprog(H,L*x,Pc,qc+Sc*x); \n",
    "    elseif mode == 'trk'\n",
    "        [NUstar,fval,flag] = quadprog(H,L*epsilon(:,k),Pc_ssto,qc_ssto+Sc_ssto*epsilon(:,k)); \n",
    "    end\n",
    "    % check feasibility\n",
    "    if flag < 1 \n",
    "        disp(['Optimization is infeasible at k = ',num2str(k)]);\n",
    "        break;    \n",
    "    end\n",
    "end\n",
    "```\n",
    "## Import Code\n",
    "\n",
    "Importing code\n",
    "\n",
    "<pre class=\"lang-markup\" data-jsonp=\"https://api.github.com/repos/umsaETN/IEA_Robotics/contents/README.md\"></pre>\n",
    "\n",
    "<pre><code class=\"language-matlab\">\n",
    "    for k = 1:nk+1 \n",
    "        % Constrained MPC control law (RH-FH) LQ-MPC at every step k        \n",
    "        if mode == 'reg'\n",
    "            [Ustar,fval,flag] = quadprog(H,L*x,Pc,qc+Sc*x); \n",
    "        elseif mode == 'trk'\n",
    "            [NUstar,fval,flag] = quadprog(H,L*epsilon(:,k),Pc_ssto,qc_ssto+Sc_ssto*epsilon(:,k)); \n",
    "        end\n",
    "        % check feasibility\n",
    "        if flag < 1 \n",
    "            disp(['Optimization is infeasible at k = ',num2str(k)]);\n",
    "            break;    \n",
    "        end\n",
    "    end\n",
    "</code></pre>"
   ]
  },
  {
   "cell_type": "markdown",
   "metadata": {},
   "source": [
    "### other"
   ]
  },
  {
   "cell_type": "code",
   "execution_count": null,
   "metadata": {
    "tags": []
   },
   "outputs": [],
   "source": [
    "%%file ../files/multi_line_func.m\n",
    "\n",
    "function p = multi_line_func(a,b)\n",
    "    % in-file comments can be added like this\n",
    "    a = a+3;\n",
    "    b = b+1;\n",
    "    p = a+b;\n",
    "end"
   ]
  },
  {
   "cell_type": "code",
   "execution_count": null,
   "metadata": {
    "scrolled": true,
    "tags": []
   },
   "outputs": [],
   "source": [
    "multi_line_func(1,1)"
   ]
  },
  {
   "cell_type": "markdown",
   "metadata": {},
   "source": [
    "# Embedded pdf\n",
    "this some intro text for the embedded pdf.\n",
    "\n",
    "<embed src=\"https://drive.google.com/viewerng/viewer?embedded=true&url=https://raw.githubusercontent.com/paulomarconi/MPC-SSTO/master/report/root.pdf\" width=\"100%\" height=\"800px\" type=\"application/pdf\">"
   ]
  },
  {
   "cell_type": "code",
   "execution_count": null,
   "metadata": {},
   "outputs": [],
   "source": []
  }
 ],
 "metadata": {
  "kernelspec": {
   "display_name": "Matlab",
   "language": "matlab",
   "name": "matlab"
  },
  "language_info": {
   "codemirror_mode": "octave",
   "file_extension": ".m",
   "help_links": [
    {
     "text": "MetaKernel Magics",
     "url": "https://metakernel.readthedocs.io/en/latest/source/README.html"
    }
   ],
   "mimetype": "text/x-octave",
   "name": "matlab",
   "version": "3.6.10-final"
  },
  "nikola": {
   "category": "",
   "date": "2020-08-21 19:25:13 UTC-04:00",
   "description": "",
   "link": "",
   "slug": "jupypter-Nikola-VSCode",
   "tags": "jupyter, Matlab engine, python 3.6, Nikola",
   "title": "Blog with jupyter, Nikola and VSCode",
   "type": "text"
  }
 },
 "nbformat": 4,
 "nbformat_minor": 4
}