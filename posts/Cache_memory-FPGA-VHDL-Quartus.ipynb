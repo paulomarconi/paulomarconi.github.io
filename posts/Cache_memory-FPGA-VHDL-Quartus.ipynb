{
 "cells": [
  {
   "cell_type": "markdown",
   "metadata": {},
   "source": [
    "Design, simulation and implementation of a direct-mapped cache memory system in VHDL using Altera Quartus Prime and DE0_CV FPGA development kit, and compare it to a reference system without cache memory to verify the performance enhancement."
   ]
  },
  {
   "cell_type": "markdown",
   "metadata": {},
   "source": [
    "# Problem formulation\n",
    "\n",
    "<object data=\"https://drive.google.com/viewerng/viewer?embedded=true&url=https://raw.githubusercontent.com/paulomarconi/Cache_memory-FPGA-VHDL-Quartus/master/Guidelines__P2_W17.pdf\" width=\"100%\" height=\"800px\"> \n",
    "\t<p>It appears you don't have a PDF plugin for this browser or JavaScript is disabled. You can <a href=\"https://drive.google.com/viewerng/viewer?embedded=true&url=https://raw.githubusercontent.com/paulomarconi/Cache_memory-FPGA-VHDL-Quartus/master/Guidelines__P2_W17.pdf\">download the PDF.</a></p>  \n",
    "</object>"
   ]
  },
  {
   "cell_type": "markdown",
   "metadata": {},
   "source": [
    "# The proposed solution.\n",
    "\n",
    "<object data=\"https://drive.google.com/viewerng/viewer?embedded=true&url=https://raw.githubusercontent.com/paulomarconi/Cache_memory-FPGA-VHDL-Quartus/master/FinalProjectFico_docs/Project_Report/Project_Report.pdf\" width=\"100%\" height=\"800px\"> \n",
    "\t<p>It appears you don't have a PDF plugin for this browser or JavaScript is disabled. You can <a href=\"https://drive.google.com/viewerng/viewer?embedded=true&url=https://raw.githubusercontent.com/paulomarconi/Cache_memory-FPGA-VHDL-Quartus/master/FinalProjectFico_docs/Project_Report/Project_Report.pdf\">download the PDF.</a></p>\n",
    "</object>\n"
   ]
  },
  {
   "cell_type": "markdown",
   "metadata": {},
   "source": [
    "Source code on [GitHub](https://github.com/paulomarconi/Cache_memory-FPGA-VHDL-Quartus)"
   ]
  }
 ],
 "metadata": {
  "kernelspec": {
   "display_name": "Python 3",
   "env": {},
   "interrupt_mode": "signal",
   "language": "python",
   "metadata": {},
   "name": "python3"
  },
  "nikola": {
   "category": "",
   "date": "2020-08-31 17:47:32 UTC-04:00",
   "description": "",
   "link": "",
   "slug": "Cache_memory-FPGA-VHDL-Quartus",
   "tags": "FPGA, VHDL, Quartus, Cache memory",
   "title": "Simple Computer Architecture using direct-mapped cache memory.",
   "type": "text",
   "status": "draft"
  }
 },
 "nbformat": 4,
 "nbformat_minor": 4
}