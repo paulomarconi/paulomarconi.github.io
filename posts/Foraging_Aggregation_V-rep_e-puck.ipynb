{
 "cells": [
  {
   "cell_type": "markdown",
   "metadata": {},
   "source": [
    "The following proposes a strategy using a Mealy Deterministic Finite State Machine (DFSM) that switches between five states with two different algorithms. The Rebound avoider/follower strategy through proximity sensors, and the search blob/ePuck approach using the 2D image processing of the ePuck embedded camera. Simulation is implemented on [V-rep ProEdu v3.6](https://www.coppeliarobotics.com/downloads)."
   ]
  },
  {
   "cell_type": "markdown",
   "metadata": {},
   "source": [
    "# Problem formulation\n",
    "\n",
    "<object data=\"https://drive.google.com/viewerng/viewer?embedded=true&url=https://raw.githubusercontent.com/paulomarconi/Foraging_Aggregation_V-rep_e-puck/master/V-rep_assignment_only.pdf\" width=\"100%\" height=\"800px\"> \n",
    "\t<p>It appears you don't have a PDF plugin for this browser or JavaScript is disabled. You can <a href=\"https://drive.google.com/viewerng/viewer?embedded=true&url=https://raw.githubusercontent.com/paulomarconi/Foraging_Aggregation_V-rep_e-puck/master/V-rep_assignment_only.pdf\">download the PDF.</a></p>  \n",
    "</object>"
   ]
  },
  {
   "cell_type": "markdown",
   "metadata": {},
   "source": [
    "# The proposed solution\n",
    "\n",
    "<object data=\"https://drive.google.com/viewerng/viewer?embedded=true&url=https://raw.githubusercontent.com/paulomarconi/Foraging_Aggregation_V-rep_e-puck/master/report/root.pdf\" width=\"100%\" height=\"800px\"> \n",
    "\t<p>It appears you don't have a PDF plugin for this browser or JavaScript is disabled. You can <a href=\"https://drive.google.com/viewerng/viewer?embedded=true&url=https://raw.githubusercontent.com/paulomarconi/Foraging_Aggregation_V-rep_e-puck/master/report/root.pdf\">download the PDF.</a></p>  \n",
    "</object>"
   ]
  },
  {
   "cell_type": "markdown",
   "metadata": {},
   "source": [
    "Source code on [GitHub](https://github.com/paulomarconi/Foraging_Aggregation_V-rep_e-puck)."
   ]
  }
 ],
 "metadata": {
  "kernelspec": {
   "display_name": "Python 3",
   "env": {},
   "interrupt_mode": "signal",
   "language": "python",
   "metadata": {},
   "name": "python3"
  },
  "nikola": {
   "category": "",
   "date": "2020-08-31 17:47:09 UTC-04:00",
   "description": "",
   "link": "",
   "slug": "Foraging_Aggregation_V-rep_e-puck",
   "tags": "V-rep, swarm robotics, foraging, aggregation",
   "title": "Simple foraging and random aggregation strategy for swarm robotics without communication",
   "type": "text",
   "status": "draft"
  }
 },
 "nbformat": 4,
 "nbformat_minor": 4
}