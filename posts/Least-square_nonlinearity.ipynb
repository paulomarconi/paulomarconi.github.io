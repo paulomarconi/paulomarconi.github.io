{
 "cells": [
  {
   "cell_type": "markdown",
   "metadata": {},
   "source": [
    "The following describes a first-order and second-order least-square model identification by polynomial and piecewise linear fitting."
   ]
  },
  {
   "cell_type": "markdown",
   "metadata": {},
   "source": [
    "# Problem formulation\n",
    "\n",
    "<object data=\"https://drive.google.com/viewerng/viewer?embedded=true&url=https://raw.githubusercontent.com/paulomarconi/Least-square_nonlinearity/master/asst03_2017_assignment.pdf\" width=\"100%\" height=\"800px\"> \n",
    "    <p>It appears you don't have a PDF plugin for this browser or JavaScript is disabled. You can <a href=\"https://drive.google.com/viewerng/viewer?embedded=true&url=https://raw.githubusercontent.com/paulomarconi/Least-square_nonlinearity/master/asst03_2017_assignment.pdf\">download the PDF.</a></p>  \n",
    "</object>\n"
   ]
  },
  {
   "cell_type": "markdown",
   "metadata": {},
   "source": [
    "# The proposed solution"
   ]
  },
  {
   "cell_type": "markdown",
   "metadata": {},
   "source": [
    "<object data=\"https://drive.google.com/viewerng/viewer?embedded=true&url=https://raw.githubusercontent.com/paulomarconi/Least-square_nonlinearity/master/asst03_2017/asst03_2017.pdf\" width=\"100%\" height=\"800px\"> \n",
    "    <p>It appears you don't have a PDF plugin for this browser or JavaScript is disabled. You can <a href=\"https://drive.google.com/viewerng/viewer?embedded=true&url=https://raw.githubusercontent.com/paulomarconi/Least-square_nonlinearity/master/asst03_2017/asst03_2017.pdf\">download the PDF.</a></p>\n",
    "</object>"
   ]
  },
  {
   "cell_type": "markdown",
   "metadata": {},
   "source": [
    "Source code on [GitHub](https://github.com/paulomarconi/Least-square_nonlinearity)."
   ]
  }
 ],
 "metadata": {
  "kernelspec": {
   "display_name": "Python 3",
   "env": {},
   "interrupt_mode": "signal",
   "language": "python",
   "metadata": {},
   "name": "python3"
  },
  "nikola": {
   "category": "",
   "date": "2020-08-31 17:52:02 UTC-04:00",
   "description": "",
   "link": "",
   "slug": "Least-square_nonlinearity",
   "tags": "Nonlinearity, least-square",
   "title": "Least-square model identification of static nonlinearity",
   "type": "text",
   "status": "draft"
  }
 },
 "nbformat": 4,
 "nbformat_minor": 4
}