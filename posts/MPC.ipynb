{
 "cells": [
  {
   "cell_type": "markdown",
   "metadata": {},
   "source": [
    "# Simple Model Predictive Control (MPC) on Jupyter Notebook with Matlab-kernel \n",
    "The following presents a constrained and unconstrained Linear Quadratic Model Predictive Control (LQ-MPC) simulation on Matlab-kernel for Jupyter Notebook. The code files also can be used in Matlab natively.\n",
    "\n",
    "# Pre-requisites\n",
    "\n",
    "- Knowledge in Control Systems theory.\n",
    "- Convex quadratic optimization theory.\n",
    "- Jupyter Notebook with Matlab-kernel.\n",
    "- Matlab.\n"
   ]
  },
  {
   "cell_type": "markdown",
   "metadata": {},
   "source": []
  }
 ],
 "metadata": {
  "kernelspec": {
   "display_name": "Matlab",
   "language": "matlab",
   "name": "matlab"
  },
  "language_info": {
   "codemirror_mode": "octave",
   "file_extension": ".m",
   "help_links": [
    {
     "text": "MetaKernel Magics",
     "url": "https://metakernel.readthedocs.io/en/latest/source/README.html"
    }
   ],
   "mimetype": "text/x-octave",
   "name": "matlab",
   "version": "0.16.9",
   "pygments_lexer": "octave"
  },
  "nikola": {
   "category": "",
   "date": "2020-09-23 19:17:08 UTC-04:00",
   "description": "",
   "link": "",
   "slug": "MPC",
   "tags": "",
   "title": "MPC on Jupyter Notebook with Matlab-kernel",
   "type": "text"
  }
 },
 "nbformat": 4,
 "nbformat_minor": 4
}