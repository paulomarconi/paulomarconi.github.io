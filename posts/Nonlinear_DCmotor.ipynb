{
 "cells": [
  {
   "cell_type": "markdown",
   "metadata": {},
   "source": [
    "# Introduction\n",
    "The objective is to simulate a nonlinear electro-mechanical DC motor with thermal model and static friction.\n",
    "\n",
    "# Pre-requisites\n",
    "- Previous post of [DC motor modeling](/blog/DCmotor/).\n",
    "- Jupyter Notebook with Matlab-kernel.\n",
    "- Matlab.\n",
    "\n",
    "# Source code\n",
    "\n",
    "Version [PDF](https://raw.githubusercontent.com/paulomarconi/MPC-SSTO/master/report/root.pdf)/[HTML](../../files/MPC-SSTO/MPC-SSTO.html). Matlab and LaTex source code on [GitHub](https://github.com/paulomarconi/MPC-SSTO). "
   ]
  },
  {
   "source": [
    "# Nonlinear model\n",
    "The nonlinear dynamic system is,\n",
    "\\begin{align}\n",
    "\tR_A i_A + L_A \\dot{i}_A+\\alpha \\omega_1                             & = e_{i}(t)   \\\\\n",
    "\tJ_1 \\dot{\\omega}_1 + B_1 \\omega_1 - r_1 f_c                         & = \\alpha i_A \\\\\n",
    "\tJ_2 \\dot{\\omega}_2 + B_2 \\omega_2 + B_{2C}~sign(\\omega_2) + r_2 f_c & = -\\tau_{L}  \\\\\n",
    "\tC_{TM} \\dot{\\theta}_M + \\frac{(\\theta_M-\\theta_A)}{R_{TM}}          & = i^2_A R_A\n",
    "\\end{align}\n",
    "where $R_A$ is the stationary resistance, $L_A$ is the stationary inductance, $i_A$ is the input stationary current, $\\alpha$ is the internal parameters, $\\omega$ is the angular speed, $e_i(t)$ is the applied armature voltage, $B$ is the rotational viscous-damping coefficient, $J$ is the moment of inertia, $f_c$ is the contact force between two gears, $r$ is the gear radius, and $B_{2C}$ is the static friction. The thermal model is similar to an electrical capacitor-resistor model with thermal capacity $C_{TM}$, $R_{TM}$ is the resistive losses to ambient temperature, $\\theta_M$ is the motor temperature, and $\\theta_A$ is the ambient temperature. \n",
    "\n",
    "Now let us define the sate-vector differential equations: state vector $x = [ i_A~ \\omega_2~ \\theta_M ]^T $, and input vector $u = [ e_{i}~ \\tau_{L}~ \\theta_A ]^T$. \n",
    "\n",
    "For $\\omega_1=N \\omega_2$ and $N=\\frac{r_2}{r_1}$, eliminating $f_c$ we have\n",
    "\n",
    "\\begin{align}\n",
    "\t\\dot{i}_A      & = -\\frac{R_A}{L_A}\\ i_A - \\frac{N \\alpha}{L_A} \\omega_2 + \\frac{1}{L_A} e_{i}                         \\\\\n",
    "\t\\dot{\\omega}_2 & = \\frac{N \\alpha}{J_{eq}} i_A - \\frac{B_{eq}}{J_{eq}} \\omega_2 - \\frac{B_{2C}}{J_{eq}} sign(\\omega_2) - \\frac{1}{J_eq}\\tau_{L} \\\\\n",
    "\t\\dot{\\theta}_M & = \\frac{R_A}{C_{TM}} i^2_A - \\frac{1}{C_{TM} R_{TM}} \\theta_M + \\frac{1}{C_{TM} R_{TM}} \\theta_A\n",
    "\\end{align}\n",
    "where $J_{eq}=J_2+N^2 J_1$ and $B_{eq}=B_2+N^2 B_1$. \n",
    "\n",
    "For simulation purpose only we can simplify as \n",
    "\\begin{align}\n",
    "\t\\dot{i}_A      & = -a~ i_A - b~ \\omega_2 + \\frac{1}{L_A}e_{i}                        \\\\\n",
    "\t\\dot{\\omega}_2 & = c~ i_A - d~ \\omega_2 - e~ sign(\\omega_2) - \\frac{1}{J_eq}\\tau_{L} \\\\\n",
    "\t\\dot{\\theta}_M & = f~ i^2_A - g~ \\theta_M + g~ \\theta_A\n",
    "\\end{align}\n",
    "where $a=\\frac{R_A}{L_A}$, $b=\\frac{N \\alpha}{L_A}$, $c=\\frac{N \\alpha}{J_{eq}}$, $d=\\frac{B_{eq}}{J_{eq}}$, $e=\\frac{B_{2C}}{J_{eq}}$, $f=\\frac{R_A}{C_{TM}}$, and $g=\\frac{1}{C_{TM} R_{TM}}$."
   ],
   "cell_type": "markdown",
   "metadata": {}
  }
 ],
 "metadata": {
  "kernelspec": {
   "display_name": "Python 3",
   "env": {},
   "interrupt_mode": "signal",
   "language": "python",
   "metadata": {},
   "name": "python3"
  },
  "nikola": {
   "category": "",
   "date": "2020-08-31 17:48:34 UTC-04:00",
   "description": "",
   "link": "",
   "slug": "Nonlinear_DCmotor",
   "tags": "nonlinear, DC motor",
   "title": "Nonlinear electro-mechanical system with continuous reversing mode",
   "type": "text",
   "status": "draft"
  }
 },
 "nbformat": 4,
 "nbformat_minor": 4
}