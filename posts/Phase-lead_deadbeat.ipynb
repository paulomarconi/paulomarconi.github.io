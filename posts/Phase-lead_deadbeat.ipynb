{
 "cells": [
  {
   "cell_type": "markdown",
   "metadata": {},
   "source": [
    "The first part is the design of a phase-lead digital controller with small steady state error, small settling time, minimum input action, and minimum overshoot. The second part is a deadbeat controller that reaches zero error very fast at sampling instants in discrete domain systems."
   ]
  },
  {
   "cell_type": "markdown",
   "metadata": {},
   "source": [
    "# Problem formulation\n",
    "\n",
    "<object data=\"https://drive.google.com/viewerng/viewer?embedded=true&url=https://raw.githubusercontent.com/paulomarconi/Phase-lead_deadbeat/master/ACS6101_week5_assignment_only.pdf\" width=\"100%\" height=\"800px\"> \n",
    "    <p>It appears you don't have a PDF plugin for this browser or JavaScript is disabled. You can <a href=\"https://drive.google.com/viewerng/viewer?embedded=true&url=https://raw.githubusercontent.com/paulomarconi/Phase-lead_deadbeat/master/ACS6101_week5_assignment_only.pdf\">download the PDF.</a></p>  \n",
    "</object>"
   ]
  },
  {
   "cell_type": "markdown",
   "metadata": {},
   "source": [
    "# The proposed solution\n",
    "\n",
    "<object data=\"https://drive.google.com/viewerng/viewer?embedded=true&url=https://raw.githubusercontent.com/paulomarconi/Phase-lead_deadbeat/master/week5/week5.pdf\" width=\"100%\" height=\"800px\"> \n",
    "    <p>It appears you don't have a PDF plugin for this browser or JavaScript is disabled. You can <a href=\"https://drive.google.com/viewerng/viewer?embedded=true&url=https://raw.githubusercontent.com/paulomarconi/Phase-lead_deadbeat/master/week5/week5.pdf\">download the PDF.</a></p>  \n",
    "</object>"
   ]
  },
  {
   "cell_type": "markdown",
   "metadata": {},
   "source": [
    "Source code on [GitHub](https://github.com/paulomarconi/Phase-lead_deadbeat)."
   ]
  }
 ],
 "metadata": {
  "kernelspec": {
   "display_name": "Python 3",
   "env": {},
   "interrupt_mode": "signal",
   "language": "python",
   "metadata": {},
   "name": "python3"
  },
  "nikola": {
   "category": "",
   "date": "2020-08-31 17:49:28 UTC-04:00",
   "description": "",
   "link": "",
   "slug": "Phase-lead_deadbeat",
   "tags": "control systems, phase-lead, deadbeat, compensator",
   "title": "Digital phase-lead and deadbeat compensators",
   "type": "text",
   "status": "draft"
  }
 },
 "nbformat": 4,
 "nbformat_minor": 4
}