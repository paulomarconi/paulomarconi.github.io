{
 "cells": [
  {
   "cell_type": "markdown",
   "metadata": {},
   "source": [
    "The first part is the design of a phase-lead compensator using the Bode analysis in the frequency domain. The second part is the design of a phase-lead compensator, and a phase-lag compensator in series with the first phase-lead compensator using two different approaches of root locus methods.\n"
   ]
  },
  {
   "cell_type": "markdown",
   "metadata": {},
   "source": [
    "# Problem formulation\n",
    "\n",
    "<object data=\"https://drive.google.com/viewerng/viewer?embedded=true&url=https://raw.githubusercontent.com/paulomarconi/Phase-lead_phase-lag/master/ACS6101_week4_assignment_only.pdf\" width=\"100%\" height=\"800px\"> \n",
    "    <p>It appears you don't have a PDF plugin for this browser or JavaScript is disabled. You can <a href=\"https://drive.google.com/viewerng/viewer?embedded=true&url=https://raw.githubusercontent.com/paulomarconi/Phase-lead_phase-lag/master/ACS6101_week4_assignment_only.pdf\">download the PDF.</a></p>  \n",
    "</object>"
   ]
  },
  {
   "cell_type": "markdown",
   "metadata": {},
   "source": [
    "# The proposed solution\n",
    "\n",
    "<object data=\"https://drive.google.com/viewerng/viewer?embedded=true&url=https://raw.githubusercontent.com/paulomarconi/Phase-lead_phase-lag/master/week4/week4.pdf\" width=\"100%\" height=\"800px\"> \n",
    "    <p>It appears you don't have a PDF plugin for this browser or JavaScript is disabled. You can <a href=\"https://drive.google.com/viewerng/viewer?embedded=true&url=https://raw.githubusercontent.com/paulomarconi/Phase-lead_phase-lag/master/week4/week4.pdf\">download the PDF.</a></p>  \n",
    "</object>"
   ]
  },
  {
   "cell_type": "markdown",
   "metadata": {},
   "source": [
    "Source code on [GitHub](https://github.com/paulomarconi/Phase-lead_phase-lag)."
   ]
  }
 ],
 "metadata": {
  "kernelspec": {
   "display_name": "Python 3",
   "env": {},
   "interrupt_mode": "signal",
   "language": "python",
   "metadata": {},
   "name": "python3"
  },
  "nikola": {
   "category": "",
   "date": "2020-08-31 17:49:42 UTC-04:00",
   "description": "",
   "link": "",
   "slug": "Phase-lead_phase-lag",
   "tags": "control systems, phase-lead, phase-lag, compensator, Bode, root-locus",
   "title": "Phase-lead and phase-lag compensator by Bode and root-locus",
   "type": "text"
  }
 },
 "nbformat": 4,
 "nbformat_minor": 4
}