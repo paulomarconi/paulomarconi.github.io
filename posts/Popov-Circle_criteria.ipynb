{
 "cells": [
  {
   "cell_type": "markdown",
   "metadata": {},
   "source": [
    "Write your post here."
   ]
  }
 ],
 "metadata": {
  "kernelspec": {
   "display_name": "Python 3",
   "env": {},
   "interrupt_mode": "signal",
   "language": "python",
   "metadata": {},
   "name": "python3"
  },
  "nikola": {
   "category": "",
   "date": "2020-08-31 17:49:52 UTC-04:00",
   "description": "",
   "link": "",
   "slug": "Popov-circle_criteria",
   "tags": "Popov, circle criteria, nonlinear",
   "title": "Absolute stability of nonlinear systems by Nyquist, Popov and Circle criteria",
   "type": "text"
  }
 },
 "nbformat": 4,
 "nbformat_minor": 4
}
