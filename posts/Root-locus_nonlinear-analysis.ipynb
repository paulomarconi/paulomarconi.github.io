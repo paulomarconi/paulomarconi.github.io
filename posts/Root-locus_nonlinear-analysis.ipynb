{
 "cells": [
  {
   "cell_type": "markdown",
   "metadata": {},
   "source": [
    "Write your post here."
   ]
  }
 ],
 "metadata": {
  "kernelspec": {
   "display_name": "Python 3",
   "env": {},
   "interrupt_mode": "signal",
   "language": "python",
   "metadata": {},
   "name": "python3"
  },
  "nikola": {
   "category": "",
   "date": "2020-08-31 17:50:02 UTC-04:00",
   "description": "",
   "link": "",
   "slug": "Root-locus_nonlinear-analysis",
   "tags": "root-locus, nonlinear, compensator, control systems, stability",
   "title": "Nonlinear stability analysis of a root-locus compensator",
   "type": "text"
  }
 },
 "nbformat": 4,
 "nbformat_minor": 4
}
