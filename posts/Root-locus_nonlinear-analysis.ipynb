{
 "cells": [
  {
   "cell_type": "markdown",
   "metadata": {},
   "source": [
    "Nonlinear stability analysis of a root-locus compensator of a linear plant."
   ]
  },
  {
   "cell_type": "markdown",
   "metadata": {},
   "source": [
    "# Problem formulation.\n",
    "<object data=\"https://drive.google.com/viewerng/viewer?embedded=true&url=https://raw.githubusercontent.com/paulomarconi/Root-locus_nonlinear-analysis/master/asst05_2017_assignment.pdf\" width=\"100%\" height=\"800px\"> \n",
    "    <p>It appears you don't have a PDF plugin for this browser or JavaScript is disabled. You can <a href=\"https://drive.google.com/viewerng/viewer?embedded=true&url=https://raw.githubusercontent.com/paulomarconi/Root-locus_nonlinear-analysis/master/asst05_2017_assignment.pdf\">download the PDF.</a></p>  \n",
    "</object>"
   ]
  },
  {
   "cell_type": "markdown",
   "metadata": {},
   "source": [
    "# The proposed solution\n",
    "<object data=\"https://drive.google.com/viewerng/viewer?embedded=true&url=https://raw.githubusercontent.com/paulomarconi/Root-locus_nonlinear-analysis/master/asst05_2017/asst05_2017.pdf\" width=\"100%\" height=\"800px\"> \n",
    "    <p>It appears you don't have a PDF plugin for this browser or JavaScript is disabled. You can <a href=\"https://drive.google.com/viewerng/viewer?embedded=true&url=https://raw.githubusercontent.com/paulomarconi/Root-locus_nonlinear-analysis/master/asst05_2017/asst05_2017.pdf\">download the PDF.</a></p>\n",
    "</object>"
   ]
  },
  {
   "cell_type": "markdown",
   "metadata": {},
   "source": [
    "Source code on [GitHub](https://github.com/paulomarconi/Root-locus_nonlinear-analysis)."
   ]
  }
 ],
 "metadata": {
  "kernelspec": {
   "display_name": "Python 3",
   "env": {},
   "interrupt_mode": "signal",
   "language": "python",
   "metadata": {},
   "name": "python3"
  },
  "nikola": {
   "category": "",
   "date": "2020-08-31 17:50:02 UTC-04:00",
   "description": "",
   "link": "",
   "slug": "Root-locus_nonlinear-analysis",
   "tags": "root-locus, nonlinear, compensator, control systems, stability",
   "title": "Nonlinear stability analysis of a root-locus compensator",
   "type": "text",
   "status": "draft"
  }
 },
 "nbformat": 4,
 "nbformat_minor": 4
}