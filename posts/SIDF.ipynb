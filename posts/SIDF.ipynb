{
 "cells": [
  {
   "cell_type": "markdown",
   "metadata": {},
   "source": [
    "Sinusoidal-Input Describing Functions (SIDF) analysis of a HVAC system."
   ]
  },
  {
   "cell_type": "markdown",
   "metadata": {},
   "source": [
    "# Problem formulation\t\t\t\t\t\t\n",
    "<object data=\"https://drive.google.com/viewerng/viewer?embedded=true&url=https://raw.githubusercontent.com/paulomarconi/SIDF/master/asst06_2017_assignment.pdf\" width=\"100%\" height=\"800px\"> \n",
    "    <p>It appears you don't have a PDF plugin for this browser or JavaScript is disabled. You can <a href=\"https://drive.google.com/viewerng/viewer?embedded=true&url=https://raw.githubusercontent.com/paulomarconi/SIDF/master/asst06_2017_assignment.pdf\">download the PDF.</a></p>  \n",
    "</object>"
   ]
  },
  {
   "cell_type": "markdown",
   "metadata": {},
   "source": [
    "# The proposed solution\n",
    "<object data=\"https://drive.google.com/viewerng/viewer?embedded=true&url=https://raw.githubusercontent.com/paulomarconi/SIDF/master/asst06_2017/asst06_2017.pdf\" width=\"100%\" height=\"800px\"> \n",
    "    <p>It appears you don't have a PDF plugin for this browser or JavaScript is disabled. You can <a href=\"https://drive.google.com/viewerng/viewer?embedded=true&url=https://raw.githubusercontent.com/paulomarconi/SIDF/master/asst06_2017/asst06_2017.pdf\">download the PDF.</a></p>\n",
    "</object>"
   ]
  },
  {
   "cell_type": "markdown",
   "metadata": {},
   "source": [
    "Source code on [GitHub](https://github.com/paulomarconi/SIDF)."
   ]
  },
  {
   "cell_type": "code",
   "execution_count": 1,
   "metadata": {},
   "outputs": [
    {
     "name": "stdout",
     "output_type": "stream",
     "text": [
      "hello world\n",
      "i =\n",
      "     0\n",
      "i =\n",
      "     2\n",
      "i =\n",
      "     4\n",
      "i =\n",
      "     6\n",
      "i =\n",
      "     8\n",
      "i =\n",
      "    10\n",
      "\n"
     ]
    }
   ],
   "source": [
    "disp(\"hello world\")\n",
    "format compact\n",
    "for i=0:2:10\n",
    "    i\n",
    "end"
   ]
  },
  {
   "cell_type": "code",
   "execution_count": 1,
   "metadata": {},
   "outputs": [
    {
     "name": "stdout",
     "output_type": "stream",
     "text": [
      "hello world\n",
      "i= 0\n",
      "i= 2\n",
      "i= 4\n",
      "i= 6\n",
      "i= 8\n",
      "i= 10\n"
     ]
    }
   ],
   "source": [
    "print('hello world')\n",
    "\n",
    "for i in range(0,12,2):\n",
    "    print(\"i=\",i)"
   ]
  },
  {
   "cell_type": "code",
   "execution_count": null,
   "metadata": {},
   "outputs": [],
   "source": []
  }
 ],
 "metadata": {
  "kernelspec": {
   "display_name": "Matlab",
   "language": "matlab",
   "name": "matlab"
  },
  "language_info": {
   "codemirror_mode": "octave",
   "file_extension": ".m",
   "help_links": [
    {
     "text": "MetaKernel Magics",
     "url": "https://metakernel.readthedocs.io/en/latest/source/README.html"
    }
   ],
   "mimetype": "text/x-octave",
   "name": "matlab",
   "version": "0.17.1"
  },
  "latex_envs": {
   "LaTeX_envs_menu_present": true,
   "autoclose": false,
   "autocomplete": true,
   "bibliofile": "biblio.bib",
   "cite_by": "apalike",
   "current_citInitial": 1,
   "eqLabelWithNumbers": true,
   "eqNumInitial": 1,
   "hotkeys": {
    "equation": "Ctrl-E",
    "itemize": "Ctrl-I"
   },
   "labels_anchors": false,
   "latex_user_defs": false,
   "report_style_numbering": false,
   "user_envs_cfg": false
  },
  "nikola": {
   "category": "",
   "date": "2020-08-31 17:50:14 UTC-04:00",
   "description": "",
   "link": "",
   "slug": "SIDF",
   "status": "draft",
   "tags": "SIDF, nonlinear, HVAC system",
   "title": "Sinusoidal-Input Describing Functions (SIDF) analysis of a HVAC system.",
   "type": "text"
  },
  "toc": {
   "base_numbering": 1,
   "nav_menu": {},
   "number_sections": true,
   "sideBar": true,
   "skip_h1_title": false,
   "title_cell": "Table of Contents",
   "title_sidebar": "Contents",
   "toc_cell": false,
   "toc_position": {},
   "toc_section_display": true,
   "toc_window_display": false
  },
  "vscode": {
   "interpreter": {
    "hash": "8d17787c2c3eff90a43464bacb36176c11867da3a8011e1c34bb821d6e2140c4"
   }
  }
 },
 "nbformat": 4,
 "nbformat_minor": 4
}
