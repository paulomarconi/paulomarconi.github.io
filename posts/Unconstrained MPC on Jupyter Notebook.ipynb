{
 "cells": [
  {
   "cell_type": "markdown",
   "metadata": {
    "toc": true
   },
   "source": [
    "<h1>Table of Contents<span class=\"tocSkip\"></span></h1>\n",
    "<div class=\"toc\"><ul class=\"toc-item\"><li><span><a href=\"#Unconstrained-Model-Predictive-Control-(MPC)-on-Jupyter-Notebook\" data-toc-modified-id=\"Unconstrained-Model-Predictive-Control-(MPC)-on-Jupyter-Notebook-1\"><span class=\"toc-item-num\">1&nbsp;&nbsp;</span>Unconstrained Model Predictive Control (MPC) on Jupyter Notebook</a></span></li><li><span><a href=\"#Pre-requisites\" data-toc-modified-id=\"Pre-requisites-2\"><span class=\"toc-item-num\">2&nbsp;&nbsp;</span>Pre-requisites</a></span></li><li><span><a href=\"#Background-Theory\" data-toc-modified-id=\"Background-Theory-3\"><span class=\"toc-item-num\">3&nbsp;&nbsp;</span>Background Theory</a></span></li><li><span><a href=\"#Unconstrained-MPC\" data-toc-modified-id=\"Unconstrained-MPC-4\"><span class=\"toc-item-num\">4&nbsp;&nbsp;</span>Unconstrained MPC</a></span></li><li><span><a href=\"#Problem-Formulation\" data-toc-modified-id=\"Problem-Formulation-5\"><span class=\"toc-item-num\">5&nbsp;&nbsp;</span>Problem Formulation</a></span></li><li><span><a href=\"#Prediction-matrices-(predicted-equality-constraint)\" data-toc-modified-id=\"Prediction-matrices-(predicted-equality-constraint)-6\"><span class=\"toc-item-num\">6&nbsp;&nbsp;</span>Prediction matrices (predicted equality constraint)</a></span></li><li><span><a href=\"#Rewriting-the-cost-function\" data-toc-modified-id=\"Rewriting-the-cost-function-7\"><span class=\"toc-item-num\">7&nbsp;&nbsp;</span>Rewriting the cost function</a></span></li><li><span><a href=\"#Substituting-the-predicted-equality-constraint\" data-toc-modified-id=\"Substituting-the-predicted-equality-constraint-8\"><span class=\"toc-item-num\">8&nbsp;&nbsp;</span>Substituting the predicted equality constraint</a></span></li><li><span><a href=\"#Cost-Function-in-QP-compact-form\" data-toc-modified-id=\"Cost-Function-in-QP-compact-form-9\"><span class=\"toc-item-num\">9&nbsp;&nbsp;</span>Cost Function in QP compact form</a></span></li><li><span><a href=\"#Explicit-solution\" data-toc-modified-id=\"Explicit-solution-10\"><span class=\"toc-item-num\">10&nbsp;&nbsp;</span>Explicit solution</a></span></li></ul></div>"
   ]
  },
  {
   "cell_type": "markdown",
   "metadata": {},
   "source": [
    "# Unconstrained Model Predictive Control (MPC) on Jupyter Notebook\n",
    "\n",
    "The following presents an unconstrained Linear Quadratic Model Predictive Control (LQ-MPC) simulation on Matlab-kernel for Jupyter Notebook. Also, the code files can be used in Matlab natively.\n",
    "\n",
    "# Pre-requisites\n",
    "\n",
    "- Knowledge in Control Systems theory.\n",
    "- Convex quadratic optimization theory.\n",
    "- Jupyter Notebook with Matlab-kernel.\n",
    "- Matlab.\n"
   ]
  },
  {
   "cell_type": "markdown",
   "metadata": {},
   "source": [
    "# Background Theory\n",
    "\n",
    "MPC is an optimization-based control strategy that solves a Finite-Horizon Linear Quadratic (FH-LQ) problem subject to constraints. A model of predicted states based on the system dynamics is used to minimize an objective function that satisfies constraints given the actual state. The obtained solution is a sequence of open-loop controls from which only the first one is implemented on the system, inducing feedback. The rest of the sequence is discarded and the process is repeated for the next sampling time, this method is often called Receding-Horizon (RH) principle. Advantages of MPC against other control strategies are the handling of constraints, and non-linearities \\cite{Rawlings2009,Rossiter2003}. \n"
   ]
  },
  {
   "source": [
    "In equation $\\ref{test}$, we find the value of an\n",
    "interesting integral:\n",
    "\n",
    "\\begin{equation}\\tag{1}\n",
    "  \\int_0^\\infty \\frac{x^3}{e^x-1}\\,dx = \\frac{\\pi^4}{15}  \n",
    "\\end{equation}"
   ],
   "cell_type": "markdown",
   "metadata": {}
  },
  {
   "source": [
    "$$\n",
    "\\begin{align}\n",
    "    g &= \\int_a^b f(x)dx \\tag{1} \\\\\n",
    "    a &= b + c \\tag{2}\n",
    "\\end{align}\n",
    "$$\n",
    "See (\\ref{1}) and (\\ref{2})"
   ],
   "cell_type": "markdown",
   "metadata": {}
  },
  {
   "source": [
    "$$\\label{eq:test} \n",
    "\\begin{align}\n",
    "M_y(t) &= \\mathbb{E} \\left( \\exp \\left[ t^\\mathrm{T} (Ax + b) \\right] \\right) \\\\\n",
    "&= \\mathbb{E} \\left( \\exp \\left[ t^\\mathrm{T} A x \\right] \\cdot \\exp \\left[ t^\\mathrm{T} b \\right] \\right) \\\\\n",
    "&= \\exp \\left[ t^\\mathrm{T} b \\right] \\cdot \\mathbb{E} \\left( \\exp \\left[ t^\\mathrm{T} A x \\right] \\right) \\\\\n",
    "&= \\exp \\left[ t^\\mathrm{T} b \\right] \\cdot M_x(At) \\; .\n",
    "\\end{align}\n",
    "$$\n",
    "\n",
    "$\\eqref{eq:test}$"
   ],
   "cell_type": "markdown",
   "metadata": {}
  },
  {
   "cell_type": "markdown",
   "metadata": {},
   "source": [
    "# Unconstrained MPC\n",
    "\n",
    "Consider the following discrete-time LTI state-space system,\n",
    "$$\n",
    "\\begin{equation}\\label{eq:LTI}\n",
    "\\begin{aligned}\n",
    "x(k+1) &= A~x(k)+B~u(k)\\\\\n",
    "y(k) &= C~x(k),\\quad k=0,1,2,\\dots\n",
    "\\end{aligned}\n",
    "\\end{equation}\n",
    "$$\n",
    "where $x\\in\\mathbb{R}^n$, $u\\in\\mathbb{R}^m$, and $y\\in\\mathbb{R}^p$, are the states, input, and output vectors respectively. $A,~B,~C,$ are the state, input, and output matrices. $A,~B,~C$ are known, no uncertainties in the model, disturbances, and noise. $x(k)$ is available at each sampling time $k$."
   ]
  },
  {
   "cell_type": "markdown",
   "metadata": {},
   "source": [
    "# Problem Formulation\n",
    "\n",
    "The objective is to regulate $x\\rightarrow 0$ as $k\\rightarrow \\infty$ while minimizing the following cost function, \n",
    "\n",
    "\\begin{equation}\\label{eq:LQ-MPCu}\n",
    "\\begin{aligned}\n",
    "J_N(x(k),\\mathbf{u}(k)) &= \\sum_{j=0}^{N-1} \\left( \\|x(k+j|k)\\|^2_Q + \\|u(k+j|k)\\|^2_R \\right) + \\|x(k+N|k)\\|^2_P\\\\\n",
    "&= \\sum_{j=0}^{N-1} (x^\\intercal(k+j|k)~Q~x(k+j|k)+ u^\\intercal(k+j|k)~R~u(k+j|k) ) + x^\\intercal(k+N|k)~P~x(k+N|k) \n",
    "\\end{aligned}\n",
    "\\end{equation}\n",
    "\n",
    "\\hspace{10em}subject to, \n",
    "\n",
    "\\begin{equation}\\label{eq:constraints_MPCu}\n",
    "\\begin{aligned}\n",
    "x(k+1+j|k) &= A~x(k+j|k)+B~u(k+j|k) \\\\\n",
    "x(k|k) &= x(k) \n",
    "\\end{aligned}\n",
    "\\end{equation}\n",
    "\n",
    "\\hspace{10em} for $ j=0,1,2,\\dots,N-1$\\\\\n",
    "\n",
    "where $Q\\in\\mathbb{R}^{n\\times n}$ and $R\\in\\mathbb{R}^{m\\times m}$ are the state penalty, and input penalty matrices. $P\\in\\mathbb{R}^{n\\times n}$ is the terminal cost matrix, $N \\in\\mathbb{N}$ is the horizon length, $k$ is the sampling time, and $(k+j|k)$ can be defined as the next $(k+j)$ value given $k$. \n",
    "\n",
    "With the value function defined as,\n",
    "\\begin{align}\n",
    "J^*_N(x(k),\\mathbf{u}(k)) &= \\min_{u(k)}~ J_N(x(k),\\mathbf{u}(k))\n",
    "\\end{align}\n",
    "the optimal control sequence is,\n",
    "\\begin{equation}\\label{eq:optimal_u}\n",
    "\\begin{aligned}\n",
    "\\mathbf{u}^*(k) &= \\mathrm{arg}\\min_{u(k)}~ J^*_N(x(k),\\mathbf{u}(k))\\\\\n",
    "&= \\left\\{ u^*(k|k),u^*(k+1|k),\\dots,u^*(k+N-1|k) \\right\\}\n",
    "\\end{aligned}\n",
    "\\end{equation}"
   ]
  },
  {
   "cell_type": "markdown",
   "metadata": {},
   "source": [
    "# Prediction matrices (predicted equality constraint)\n",
    "\n",
    "Setting $x(k)=x(k|k)$, and $u(k)=u(k|k)$ and applying the model recursively,\n",
    "$$\n",
    "\\begin{align*}\n",
    "x(k+1|k) &= A~x(k)+B~u(k) \\\\\n",
    "x(k+2|k) &= A~x(k+1|k)+B~u(k+1|k) \\\\\n",
    "\t\t\t\t &= A^2~x(k)+AB~u(k|k)+B~u(k+1|k) \\\\\n",
    "\\vdots \\hspace{2em}  &= \\hspace{3em} \\vdots \\\\\n",
    "x(k+N|k) &= A~x(k+N-1|k)+B~u(k+N-1|k) \\\\\n",
    "\t\t\t\t &= A^N~x(k)+A^{N-1}B~u(k|k)+\\dots+B~u(k+N-1|k)\n",
    "\\end{align*}\n",
    "$$\n",
    "\n",
    "stacking,\n",
    "\n",
    "$$\n",
    "\\begin{aligned}\n",
    "{\\underbrace{\n",
    "\t\\begin{bmatrix}\n",
    "\tx(k+1|k) \\\\\n",
    "\tx(k+2|k) \\\\\n",
    "\t\\vdots \\\\\n",
    "\tx(k+N|k)\n",
    "\t\\end{bmatrix}}_{\\mathbf{x}(k)}\n",
    "}\n",
    "=\n",
    "{\\underbrace{\n",
    "\t\\begin{bmatrix}\n",
    "\tA \\\\\n",
    "\tA^2 \\\\\n",
    "\t\\vdots \\\\\n",
    "\tA^N\n",
    "\t\\end{bmatrix}}_{F}\n",
    "}\n",
    "+\n",
    "{\\underbrace{\n",
    "\t\\begin{bmatrix}\n",
    "\t\tB        & 0        & \\dots  & 0      \\\\\n",
    "\t\tAB       & B        & \\dots  & 0      \\\\\n",
    "\t\t\\vdots   & \\vdots   & \\ddots & \\vdots \\\\\n",
    "\t\tA^{N-1}B & A^{N-2}B & \\dots  & B\n",
    "\t\\end{bmatrix}}_{G}\n",
    "}\n",
    "{\\underbrace{\n",
    "\t\\begin{bmatrix}\n",
    "\tu(k|k) \\\\\n",
    "\tu(k+1|k) \\\\\n",
    "\t\\vdots \\\\\n",
    "\tu(k+N-1|k)\n",
    "\t\\end{bmatrix}}_{\\mathbf{u}(k)}\n",
    "}\n",
    "\\end{aligned}\n",
    "$$\n",
    "the predicted equality constraint is,\n",
    "$$\n",
    "\\begin{equation}\n",
    "\\mathbf{x}(k) = F~x(k)+G~\\mathbf{u}(k)\n",
    "\\end{equation}\n",
    "$$\n",
    "where $\\mathbf{x}(k)$, and $\\mathbf{u}(k)$ are the state, and input predictions over all steps $j=0,1,2,\\dots,N$.\n",
    "\n",
    "\n"
   ]
  },
  {
   "cell_type": "markdown",
   "metadata": {},
   "source": [
    "# Rewriting the cost function\n",
    "\n",
    "Rewriting the cost function as,\n",
    "$$\n",
    "\\begin{aligned}\n",
    "x^\\intercal(k|k)~Q~x(k|k)\n",
    "&+\n",
    "\\begin{bmatrix}\n",
    "\tx(k+1|k) \\\\\n",
    "\tx(k+2|k) \\\\\n",
    "\t\\vdots\\\\\n",
    "\tx(k+N|k) \\\\\n",
    "\\end{bmatrix}^\\intercal\n",
    "{\\underbrace{\n",
    "\t\\begin{bmatrix}\n",
    "\t\tQ      & 0      & \\dots  & 0      \\\\\n",
    "\t\t0      & Q      & \\ddots & \\vdots \\\\\n",
    "\t\t\\vdots & \\ddots & Q      & 0      \\\\\n",
    "\t\t0      & \\dots  & 0      & P\n",
    "\t\\end{bmatrix}}_{\\tilde{Q}}\n",
    "}\n",
    "\\begin{bmatrix}\n",
    "\tx(k+1|k) \\\\\n",
    "\tx(k+2|k) \\\\\n",
    "\t\\vdots\\\\\n",
    "\tx(k+N|k) \\\\\n",
    "\\end{bmatrix}\n",
    "\\\\\n",
    "&+\n",
    "\\begin{bmatrix}\n",
    "\tu(k|k) \\\\\n",
    "\tu(k+1|k) \\\\\n",
    "\t\\vdots \\\\\n",
    "\tu(k+N-1|k)\n",
    "\\end{bmatrix}^\\intercal\n",
    "{\\underbrace{\n",
    "\t\\begin{bmatrix}\n",
    "\tR      & 0      & \\dots  & 0      \\\\\n",
    "\t0      & R      & \\ddots & \\vdots \\\\\n",
    "\t\\vdots & \\ddots & R      & 0      \\\\\n",
    "\t0      & \\dots  & 0      & R\n",
    "\t\t\\end{bmatrix}}_{\\tilde{R}}\n",
    "}\n",
    "\\begin{bmatrix}\n",
    "\tu(k|k) \\\\\n",
    "\tu(k+1|k) \\\\\n",
    "\t\\vdots \\\\\n",
    "\tu(k+N-1|k)\n",
    "\\end{bmatrix}\n",
    "\\end{aligned}\n",
    "$$\n",
    "\n",
    "Therefore, with $x(k|k)=x(k)$, now the problem is to minimize,\n",
    "$$\n",
    "\\begin{align}\n",
    "J_N(x(k),\\mathbf{u}(k)) &=  x^\\intercal(k)~Q~x(k) + \\mathbf{x}^\\intercal(k)~\\tilde{Q}~\\mathbf{x}(k) + \\mathbf{u}^\\intercal(k)~\\tilde{R}~\\mathbf{u}(k)\\\\ \n",
    "\\text{subject to,} \\hspace{2em} \\\\\n",
    "\\mathbf{x}(k) &= F~x(k)+G~\\mathbf{u}(k)\n",
    "\\end{align}\n",
    "$$"
   ]
  },
  {
   "cell_type": "markdown",
   "metadata": {},
   "source": [
    "# Substituting the predicted equality constraint\n",
    "\n",
    "$$\n",
    "\\begin{align*}\n",
    "J_N(x(k),\\mathbf{u}(k)) &=  x^\\intercal(k) Q x(k) + ( F x(k)+G \\mathbf{u}(k) )^\\intercal \\tilde{Q} ( F x(k)+G \\mathbf{u}(k) ) + \\mathbf{u}^\\intercal(k)~\\tilde{R} \\mathbf{u}(k) \\\\\n",
    "\\text{omitting $(k)$ only for the algebraic operations,}\\\\\n",
    "&= x^\\intercal Q x + [(F x)^\\intercal+(G \\mathbf{u})^\\intercal] \\tilde{Q} (F x+G \\mathbf{u}) + \\mathbf{u}^\\intercal \\tilde{R} \\mathbf{u} \\\\\n",
    "&= x^\\intercal Q x + (F x)^\\intercal \\tilde{Q} F x + (F x)^\\intercal \\tilde{Q} G \\mathbf{u} + (G \\mathbf{u})^\\intercal \\tilde{Q} F x + (G \\mathbf{u})^\\intercal \\tilde{Q} G \\mathbf{u} + \\mathbf{u}^\\intercal~\\tilde{R} \\mathbf{u}\\\\\n",
    "&= \\underbrace{x^\\intercal Q x + x^\\intercal F^\\intercal \\tilde{Q} F x} + \\underbrace{x^\\intercal F^\\intercal \\tilde{Q} G \\mathbf{u} + \\mathbf{u}^\\intercal G^\\intercal \\tilde{Q} F x} + \\underbrace{\\mathbf{u}^\\intercal G^\\intercal \\tilde{Q} G \\mathbf{u} + \\mathbf{u}^\\intercal \\tilde{R} \\mathbf{u}}\\\\\n",
    "&= x^\\intercal(Q+F^\\intercal \\tilde{Q} F)x \\quad \\!\\!+ \\quad 2 \\mathbf{u}^\\intercal G^\\intercal \\tilde{Q} F x \\qquad\\quad+ \\mathbf{u}^\\intercal (G^\\intercal \\tilde{Q} G+\\tilde{R})\\mathbf{u}\\\\\n",
    "&= x^\\intercal(Q+F^\\intercal \\tilde{Q} F)x + (2 G^\\intercal \\tilde{Q} F x)^\\intercal \\mathbf{u} + \\mathbf{u}^\\intercal (G^\\intercal \\tilde{Q} G+\\tilde{R})\\mathbf{u}\\\\\n",
    "&= x^\\intercal\\underbrace{(Q+F^\\intercal \\tilde{Q} F)}_M x + (\\underbrace{2 G^\\intercal \\tilde{Q} F}_L x)^\\intercal \\mathbf{u} + \\frac{1}{2}\\left[\\mathbf{u}^\\intercal \\underbrace{2(G^\\intercal \\tilde{Q} G+\\tilde{R})}_H \\mathbf{u}\\right]\\\\\n",
    "&= \\frac{1}{2}\\mathbf{u}(k)^\\intercal~H~\\mathbf{u}(k)+\\underbrace{(L~x(k))^\\intercal}_{c^\\intercal}~\\mathbf{u}(k)+\\underbrace{x(k)^\\intercal~M~x(k)}_\\alpha\n",
    "\\end{align*}\n",
    "$$"
   ]
  },
  {
   "cell_type": "markdown",
   "metadata": {},
   "source": [
    "# Cost Function in QP compact form\n",
    "\n",
    "$$\n",
    "\\begin{align}\n",
    "J_N(x(k),\\mathbf{u}(k)) &= \\frac{1}{2} \\mathbf{u}(k)^\\intercal~H~\\mathbf{u}(k)+c^\\intercal~\\mathbf{u}(k)+\\alpha \\\\\n",
    "\\text{where,} \\hspace{3em} \\\\\n",
    "H&=2(G^\\intercal\\tilde{Q}G+\\tilde{R})\\\\\n",
    "c&=L~x(k) \\\\\n",
    "L&=2G^\\intercal\\tilde{Q}F\\\\\n",
    "\\alpha&=x^\\intercal(k)~M~x(k) \\\\\n",
    "M&=Q+F^\\intercal\\tilde{Q}F\n",
    "\\end{align}\n",
    "$$"
   ]
  },
  {
   "cell_type": "markdown",
   "metadata": {},
   "source": [
    "# Explicit solution\n",
    "\n",
    "Minimizing with the gradient and solving for $\\mathbf{u}^*(k)$,\n",
    "\n",
    "$$\n",
    "\\begin{align}\n",
    "J^*_N(x(k),\\mathbf{u}(k)) &= \\min_{\\mathbf{u}(k)}~\\frac{1}{2} \\mathbf{u}(k)^\\intercal~H~\\mathbf{u}(k)+c^\\intercal~\\mathbf{u}+\\alpha \\\\ \n",
    "\\nabla_\\mathbf{u}~J^*_N(x(k),\\mathbf{u}(k)) &= 0 \\\\\n",
    "H~\\mathbf{u}^*(k)+c &= 0 \\\\\n",
    "\\mathbf{u}^*(k) &= -H^{-1}~c \\\\\n",
    "\\text{the optimal solution results in,} \\hspace{5em} \\\\\n",
    "\\mathbf{u}^*(k) &= -H^{-1}~L~x(k)\n",
    "\\end{align}\n",
    "$$\n",
    "where that $Q\\succeq,~P\\succeq 0$ are positive semidefinite convex, and $R\\succ 0$ is definite convex, such that $H\\succ 0$. The optimal solution $\\mathbf{u}^*(k)$ for any $x(k)$ is unique if $H\\succ 0$ is invertible."
   ]
  },
  {
   "cell_type": "markdown",
   "metadata": {},
   "source": [
    "Applying the RH principle means that only the \\textbf{first} control input of the vector \\eqref{eq:opt_mpc_u} is applied to the real system. That is,\n",
    "$$\n",
    "\\begin{align}\n",
    "\\begin{bmatrix}\n",
    "\tu^*(k) \\\\\n",
    "\tu^*(k+1) \\\\\n",
    "\t\\vdots \\\\\n",
    "\tu^*(k+N-1)\n",
    "\\end{bmatrix}\n",
    "&=\n",
    "\\begin{bmatrix}\n",
    "\tI      & 0      & 0      & \\dots  & 0      \\\\\n",
    "\t0      & I      & 0      & \\dots  & 0      \\\\\n",
    "\t\\vdots & \\vdots & \\vdots & \\ddots & \\vdots \\\\\n",
    "\t0      & 0      & 0      & \\dots  & I\n",
    "\\end{bmatrix}\n",
    "(-H^{-1}~L)x(k)\n",
    "\\end{align}\n",
    "$$\n",
    "\n",
    "$$\n",
    "\\begin{align}\n",
    "u^*(k) &= K_N~x(k)\\\\\n",
    "K_N &= [I \\quad 0 \\quad 0 \\quad \\dots \\quad 0](-H^{-1}~L)\n",
    "\\end{align}\n",
    "$$\n",
    "Notice that $u^*(k)$ is an explicit linear time-invariant control law because $H$ and $L$ do not depend on $x(k)$."
   ]
  },
  {
   "cell_type": "markdown",
   "metadata": {},
   "source": [
    "\n",
    "\\begin{align}\\label{eq:test2}\n",
    "u^*(k) &= K_N~x(k)\\\\\n",
    "K_N &= [I \\quad 0 \\quad 0 \\quad \\dots \\quad 0](-H^{-1}~L)\n",
    "\\end{align}\n",
    "\n",
    "Notice that $u^*(k)$ is an explicit linear time-invariant control law because $H$ and $L$ do not depend on $x(k)$. \\eqref{eq:test2}"
   ]
  },
  {
   "cell_type": "code",
   "execution_count": null,
   "metadata": {},
   "outputs": [],
   "source": []
  }
 ],
 "metadata": {
  "kernelspec": {
   "display_name": "Python 3",
   "language": "matlab",
   "name": "python3"
  },
  "language_info": {
   "codemirror_mode": "octave",
   "file_extension": ".m",
   "help_links": [
    {
     "text": "MetaKernel Magics",
     "url": "https://metakernel.readthedocs.io/en/latest/source/README.html"
    }
   ],
   "mimetype": "text/x-octave",
   "name": "matlab",
   "version": "3.6.10-final"
  },
  "latex_envs": {
   "LaTeX_envs_menu_present": true,
   "autoclose": false,
   "autocomplete": true,
   "bibliofile": "biblio.bib",
   "cite_by": "apalike",
   "current_citInitial": 1,
   "eqLabelWithNumbers": true,
   "eqNumInitial": 1,
   "hotkeys": {
    "equation": "Ctrl-E",
    "itemize": "Ctrl-I"
   },
   "labels_anchors": false,
   "latex_user_defs": true,
   "report_style_numbering": false,
   "user_envs_cfg": false
  },
  "nikola": {
   "category": "",
   "date": "2020-09-23 19:17:08 UTC-04:00",
   "description": "",
   "link": "",
   "slug": "MPC",
   "tags": "",
   "title": "MPC on Jupyter Notebook with Matlab-kernel",
   "type": "text"
  },
  "toc": {
   "base_numbering": 1,
   "nav_menu": {
    "height": "246.4px",
    "width": "476.4px"
   },
   "number_sections": true,
   "sideBar": true,
   "skip_h1_title": false,
   "title_cell": "Table of Contents",
   "title_sidebar": "Contents",
   "toc_cell": true,
   "toc_position": {
    "height": "calc(100% - 180px)",
    "left": "10px",
    "top": "150px",
    "width": "165px"
   },
   "toc_section_display": true,
   "toc_window_display": true
  }
 },
 "nbformat": 4,
 "nbformat_minor": 4
}