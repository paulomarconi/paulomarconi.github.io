{
 "cells": [
  {
   "cell_type": "markdown",
   "metadata": {},
   "source": [
    "# Table of contents\n",
    "1. [Introduction](#introduction)\n",
    "2. [Some paragraph](#paragraph1)\n",
    "    1. [Sub paragraph](#subparagraph1)\n",
    "3. [Another paragraph](#paragraph2)\n",
    "\n",
    "## This is the introduction <a name=\"introduction\"></a>\n",
    "Some introduction text, formatted in heading 2 style.\n",
    "\n",
    "## Some paragraph <a name=\"paragraph1\"></a>\n",
    "The first paragraph text\n",
    "\n",
    "### Sub paragraph <a name=\"subparagraph1\"></a>\n",
    "This is a sub paragraph, formatted in heading 3 style\n",
    "\n",
    "## Another paragraph <a name=\"paragraph2\"></a>\n",
    "The second paragraph text\n"
   ]
  },
  {
   "cell_type": "markdown",
   "metadata": {},
   "source": [
    "## Python test"
   ]
  },
  {
   "cell_type": "code",
   "execution_count": null,
   "metadata": {
    "tags": []
   },
   "outputs": [],
   "source": [
    "print('hello world')"
   ]
  },
  {
   "cell_type": "markdown",
   "metadata": {},
   "source": [
    "## Matlab script test"
   ]
  },
  {
   "cell_type": "code",
   "execution_count": null,
   "metadata": {
    "tags": []
   },
   "outputs": [],
   "source": [
    "format compact\n",
    "for i=0:.3:4\n",
    "    i+1\n",
    "end"
   ]
  },
  {
   "cell_type": "code",
   "execution_count": null,
   "metadata": {
    "tags": []
   },
   "outputs": [],
   "source": [
    "tx = linspace (-8, 8, 41);\n",
    "ty = tx;\n",
    "[xx, yy] = meshgrid (tx, ty);\n",
    "r = 2*sqrt (xx .^ 2 + yy .^ 2) + eps;\n",
    "tz = sin (r) ./ r;\n",
    "\n",
    "%plot inline\n",
    "mesh(tx, ty, tz);\n"
   ]
  },
  {
   "cell_type": "markdown",
   "metadata": {},
   "source": [
    "Some random latex formulas\n",
    "$$ f(x) = x^{2i}$$"
   ]
  },
  {
   "cell_type": "markdown",
   "metadata": {},
   "source": [
    "## Code Highlighting \n",
    "```octave\n",
    "for k = 1:nk+1 \n",
    "    % Constrained MPC control law (RH-FH) LQ-MPC at every step k        \n",
    "    if mode == 'reg'\n",
    "        [Ustar,fval,flag] = quadprog(H,L*x,Pc,qc+Sc*x); \n",
    "    elseif mode == 'trk'\n",
    "        [NUstar,fval,flag] = quadprog(H,L*epsilon(:,k),Pc_ssto,qc_ssto+Sc_ssto*epsilon(:,k)); \n",
    "    end\n",
    "    % check feasibility\n",
    "    if flag < 1 \n",
    "        disp(['Optimization is infeasible at k = ',num2str(k)]);\n",
    "        break;    \n",
    "    end\n",
    "end\n",
    "```\n",
    "## Import Code\n",
    "\n",
    "Importing code\n",
    "\n",
    "<pre class=\"lang-markup\" data-jsonp=\"https://api.github.com/repos/umsaETN/IEA_Robotics/contents/README.md\"></pre>\n",
    "\n",
    "<pre><code class=\"language-matlab\">\n",
    "    for k = 1:nk+1 \n",
    "        % Constrained MPC control law (RH-FH) LQ-MPC at every step k        \n",
    "        if mode == 'reg'\n",
    "            [Ustar,fval,flag] = quadprog(H,L*x,Pc,qc+Sc*x); \n",
    "        elseif mode == 'trk'\n",
    "            [NUstar,fval,flag] = quadprog(H,L*epsilon(:,k),Pc_ssto,qc_ssto+Sc_ssto*epsilon(:,k)); \n",
    "        end\n",
    "        % check feasibility\n",
    "        if flag < 1 \n",
    "            disp(['Optimization is infeasible at k = ',num2str(k)]);\n",
    "            break;    \n",
    "        end\n",
    "    end\n",
    "</code></pre>"
   ]
  },
  {
   "cell_type": "markdown",
   "metadata": {},
   "source": [
    "### other"
   ]
  },
  {
   "cell_type": "code",
   "execution_count": 11,
   "metadata": {
    "tags": []
   },
   "outputs": [
    {
     "output_type": "stream",
     "name": "stdout",
     "text": "Writing ../files/multi_line_func.m\n"
    }
   ],
   "source": [
    "%%file ../files/multi_line_func.m\n",
    "\n",
    "function p = multi_line_func(a,b)\n",
    "    % in-file comments can be added like this\n",
    "    a = a+3;\n",
    "    b = b+1;\n",
    "    p = a+b;\n",
    "end"
   ]
  },
  {
   "cell_type": "code",
   "execution_count": null,
   "metadata": {
    "scrolled": true,
    "tags": []
   },
   "outputs": [],
   "source": [
    "multi_line_func(1,1)"
   ]
  },
  {
   "cell_type": "markdown",
   "metadata": {},
   "source": [
    "# Embedded pdf\n",
    "this some intro text for the embedded pdf.\n",
    "\n",
    "<embed src=\"https://drive.google.com/viewerng/viewer?embedded=true&url=https://raw.githubusercontent.com/paulomarconi/MPC-SSTO/master/report/root.pdf\" width=\"100%\" height=\"800px\" type=\"application/pdf\">"
   ]
  },
  {
   "cell_type": "code",
   "execution_count": null,
   "metadata": {},
   "outputs": [],
   "source": []
  }
 ],
 "metadata": {
  "kernelspec": {
   "display_name": "Python 3",
   "language": "matlab",
   "name": "python3"
  },
  "language_info": {
   "codemirror_mode": "octave",
   "file_extension": ".m",
   "help_links": [
    {
     "text": "MetaKernel Magics",
     "url": "https://metakernel.readthedocs.io/en/latest/source/README.html"
    }
   ],
   "mimetype": "text/x-octave",
   "name": "matlab",
   "version": "3.6.10-final"
  },
  "nikola": {
   "category": "",
   "date": "2020-08-21 19:25:13 UTC-04:00",
   "description": "",
   "link": "",
   "slug": "jupypter-Nikola-VSCode",
   "tags": "jupyter, Matlab engine, python 3.6, Nikola",
   "title": "Blog with jupyter, Nikola and VSCode",
   "type": "text"
  }
 },
 "nbformat": 4,
 "nbformat_minor": 4
}